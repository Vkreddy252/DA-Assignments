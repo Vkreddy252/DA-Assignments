{
 "cells": [
  {
   "cell_type": "markdown",
   "id": "ec4b29db",
   "metadata": {},
   "source": [
    "# Importing Required Libraries"
   ]
  },
  {
   "cell_type": "code",
   "execution_count": 1,
   "id": "749a6015",
   "metadata": {},
   "outputs": [],
   "source": [
    "import pandas as pd\n",
    "import numpy as np\n",
    "import seaborn as sns\n",
    "import matplotlib.pyplot as plt"
   ]
  },
  {
   "cell_type": "markdown",
   "id": "20760ce3",
   "metadata": {},
   "source": [
    "# Assignment Questions List"
   ]
  },
  {
   "cell_type": "markdown",
   "id": "e8605763",
   "metadata": {},
   "source": [
    "## 1. Write a Python program which accepts a sequence of comma-separated numbers from user and generate a list and a tuple with those numbers."
   ]
  },
  {
   "cell_type": "code",
   "execution_count": 2,
   "id": "5b5a5440",
   "metadata": {},
   "outputs": [
    {
     "name": "stdout",
     "output_type": "stream",
     "text": [
      "Enter comma seprated numbers : 3,5,7,23\n",
      "List :  ['3', '5', '7', '23']\n",
      "Tuple :  ('3', '5', '7', '23')\n"
     ]
    }
   ],
   "source": [
    "values = input(\"Enter comma seprated numbers : \")\n",
    "list = values.split(\",\")\n",
    "tuple = tuple(list)\n",
    "print('List : ',list)\n",
    "print('Tuple : ',tuple)"
   ]
  },
  {
   "cell_type": "markdown",
   "id": "003d4224",
   "metadata": {},
   "source": [
    "## 2. Write a Python program to display the first and last colors from the following list. "
   ]
  },
  {
   "cell_type": "code",
   "execution_count": 3,
   "id": "dc1da3ec",
   "metadata": {},
   "outputs": [],
   "source": [
    "color_list = [\"Red\",\"Green\",\"White\" ,\"Black\"]"
   ]
  },
  {
   "cell_type": "code",
   "execution_count": 4,
   "id": "ed0d903a",
   "metadata": {},
   "outputs": [
    {
     "data": {
      "text/plain": [
       "('Red', 'Black')"
      ]
     },
     "execution_count": 4,
     "metadata": {},
     "output_type": "execute_result"
    }
   ],
   "source": [
    "color_list[0], color_list[-1]"
   ]
  },
  {
   "cell_type": "markdown",
   "id": "05060b64",
   "metadata": {},
   "source": [
    "## 3. Write a Python program to print the even numbers from a given list."
   ]
  },
  {
   "cell_type": "code",
   "execution_count": 5,
   "id": "c32ccfc4",
   "metadata": {},
   "outputs": [],
   "source": [
    "Sample_list = [1, 2, 3, 4, 5, 6, 7, 8, 9]"
   ]
  },
  {
   "cell_type": "code",
   "execution_count": 6,
   "id": "7417322c",
   "metadata": {},
   "outputs": [
    {
     "name": "stdout",
     "output_type": "stream",
     "text": [
      "2 4 6 8 "
     ]
    }
   ],
   "source": [
    "for x in Sample_list:\n",
    "    if x % 2 == 0:\n",
    "        print(x, end=\" \")"
   ]
  },
  {
   "cell_type": "markdown",
   "id": "9b25120c",
   "metadata": {},
   "source": [
    "# Module"
   ]
  },
  {
   "cell_type": "markdown",
   "id": "83419d9c",
   "metadata": {},
   "source": [
    "## 1. Write a Python program to calculate number of days between two dates. Hint: use Datetime package/module."
   ]
  },
  {
   "cell_type": "code",
   "execution_count": 7,
   "id": "09bdf4fc",
   "metadata": {},
   "outputs": [
    {
     "name": "stdout",
     "output_type": "stream",
     "text": [
      "9 days, 0:00:00\n"
     ]
    }
   ],
   "source": [
    "from datetime import date  \n",
    "   \n",
    "d1= date(2014, 7, 2)\n",
    "d2 = date(2014, 7, 11)\n",
    "d3=d2-d1\n",
    "print(d3)"
   ]
  },
  {
   "cell_type": "markdown",
   "id": "f28db4cc",
   "metadata": {},
   "source": [
    "# Functions"
   ]
  },
  {
   "cell_type": "markdown",
   "id": "0788eb95",
   "metadata": {},
   "source": [
    "## 1. Write a Python program to get the volume of a sphere with radius 6."
   ]
  },
  {
   "cell_type": "code",
   "execution_count": 8,
   "id": "9b6f8fb8",
   "metadata": {},
   "outputs": [],
   "source": [
    "import math\n",
    "def vol_sphere(r):\n",
    "    \n",
    "    print('Voulme of sphere with Radius',r,'is', ((4/3)*math.pi*r**3))"
   ]
  },
  {
   "cell_type": "code",
   "execution_count": 9,
   "id": "c92e6af0",
   "metadata": {},
   "outputs": [
    {
     "name": "stdout",
     "output_type": "stream",
     "text": [
      "Voulme of sphere with Radius 6 is 904.7786842338603\n"
     ]
    }
   ],
   "source": [
    "vol_sphere(6)"
   ]
  },
  {
   "cell_type": "markdown",
   "id": "110815ae",
   "metadata": {},
   "source": [
    "## 2. Write a Python program to calculate the sum of three given numbers, if the values are equal then return three times of their sum hint: write User defined functions."
   ]
  },
  {
   "cell_type": "code",
   "execution_count": 10,
   "id": "de48e5db",
   "metadata": {},
   "outputs": [
    {
     "name": "stdout",
     "output_type": "stream",
     "text": [
      "6\n",
      "27\n"
     ]
    }
   ],
   "source": [
    "def sum_thrice(x, y, z):\n",
    "\n",
    "     sum = x + y + z\n",
    "  \n",
    "     if x == y == z:\n",
    "      sum = sum * 3\n",
    "     return sum\n",
    "    \n",
    "def main():\n",
    "\n",
    "    print(sum_thrice(1, 2, 3))\n",
    "    print(sum_thrice(3, 3, 3))\n",
    "\n",
    "if __name__==\"__main__\":\n",
    "    main()"
   ]
  },
  {
   "cell_type": "markdown",
   "id": "8bfe446c",
   "metadata": {},
   "source": [
    "## 3. Write a Python program to count the number 4 in a given list."
   ]
  },
  {
   "cell_type": "code",
   "execution_count": 11,
   "id": "c82e2f13",
   "metadata": {},
   "outputs": [
    {
     "name": "stdout",
     "output_type": "stream",
     "text": [
      "Number four occurs 3 times\n"
     ]
    }
   ],
   "source": [
    "def count_4(nums):\n",
    "    count = 0  \n",
    "    for num in nums:\n",
    "        if num == 4:\n",
    "            count = count + 1\n",
    "    \n",
    "    return count\n",
    "def main():\n",
    "    \n",
    "    print(\"Number four occurs\",count_4([1, 4, 6, 8, 4, 9, 4]),\"times\")\n",
    "\n",
    "if __name__==\"__main__\":\n",
    "    main()"
   ]
  },
  {
   "cell_type": "markdown",
   "id": "ff0fe5c9",
   "metadata": {},
   "source": [
    "## 4. Write a Python program to print all even numbers from a given numbers list in the same order and stop the printing if any numbers that come after 237 in the sequence."
   ]
  },
  {
   "cell_type": "code",
   "execution_count": 12,
   "id": "02ce285e",
   "metadata": {},
   "outputs": [
    {
     "name": "stdout",
     "output_type": "stream",
     "text": [
      "386 462 418 344 236 566 978 328 162 758 918 237 "
     ]
    }
   ],
   "source": [
    "Numbers = [386, 462, 47, 418, 907, 344, 236, 375, 823, 566, 597, 978, 328, 615, 953, 345, \n",
    "    399, 162, 758, 219, 918, 237, 412, 566, 826, 248, 866, 950, 626, 949, 687, 217, \n",
    "    815, 67, 104, 58, 512, 24, 892, 894, 767, 553, 81, 379, 843, 831, 445, 742, 717, \n",
    "    958,743, 527]\n",
    "\n",
    "for x in Numbers:\n",
    "    if x == 237:\n",
    "        print(x,end=\" \")\n",
    "        break;\n",
    "    elif x % 2 == 0:\n",
    "        print(x,end=\" \")"
   ]
  },
  {
   "cell_type": "markdown",
   "id": "840fabe5",
   "metadata": {},
   "source": [
    "## 5. Write a Python program to find those numbers which are divisible by 7 and multiple of 5, between 1500 and 2700 (both included)"
   ]
  },
  {
   "cell_type": "code",
   "execution_count": 13,
   "id": "7372a3a7",
   "metadata": {},
   "outputs": [
    {
     "name": "stdout",
     "output_type": "stream",
     "text": [
      "Numbers that divisible by 7 and multiple of 5:\n",
      " ['1505', '1540', '1575', '1610', '1645', '1680', '1715', '1750', '1785', '1820', '1855', '1890', '1925', '1960', '1995', '2030', '2065', '2100', '2135', '2170', '2205', '2240', '2275', '2310', '2345', '2380', '2415', '2450', '2485', '2520', '2555', '2590', '2625', '2660', '2695']\n"
     ]
    }
   ],
   "source": [
    "list=[]\n",
    "for x in range(1500, 2701):\n",
    "    if (x%7==0) and (x%5==0):\n",
    "        list.append(str(x))\n",
    "\n",
    "print(\"Numbers that divisible by 7 and multiple of 5:\\n\",list)"
   ]
  },
  {
   "cell_type": "markdown",
   "id": "d4397ce7",
   "metadata": {},
   "source": [
    "## 6. Write a Python program that prints all the numbers from 0 to 6 except 3 and 6."
   ]
  },
  {
   "cell_type": "code",
   "execution_count": 14,
   "id": "73d87df7",
   "metadata": {},
   "outputs": [
    {
     "name": "stdout",
     "output_type": "stream",
     "text": [
      "0 1 2 4 5 "
     ]
    }
   ],
   "source": [
    "for x in range(6):\n",
    "    if (x == 3 or x==6):\n",
    "        continue\n",
    "    print(x,end=' ')"
   ]
  },
  {
   "cell_type": "markdown",
   "id": "994f94b5",
   "metadata": {},
   "source": [
    "## 7. Write a Python program to get the Fibonacci series between 0 to 50."
   ]
  },
  {
   "cell_type": "code",
   "execution_count": 15,
   "id": "5eca4938",
   "metadata": {},
   "outputs": [
    {
     "name": "stdout",
     "output_type": "stream",
     "text": [
      "1\n",
      "1\n",
      "2\n",
      "3\n",
      "5\n",
      "8\n",
      "13\n",
      "21\n",
      "34\n"
     ]
    }
   ],
   "source": [
    "x,y=0,1\n",
    "\n",
    "while y<50:\n",
    "    print(y)\n",
    "    x,y = y,x+y"
   ]
  },
  {
   "cell_type": "markdown",
   "id": "f29f7f62",
   "metadata": {},
   "source": [
    "## 8. Write a Python program to get the Fibonacci series between 0 to 50. \n",
    "### (Question Repeated)"
   ]
  },
  {
   "cell_type": "code",
   "execution_count": 16,
   "id": "330be839",
   "metadata": {},
   "outputs": [
    {
     "name": "stdout",
     "output_type": "stream",
     "text": [
      "1\n",
      "1\n",
      "2\n",
      "3\n",
      "5\n",
      "8\n",
      "13\n",
      "21\n",
      "34\n"
     ]
    }
   ],
   "source": [
    "x,y=0,1\n",
    "\n",
    "while y<50:\n",
    "    print(y)\n",
    "    x,y = y,x+y"
   ]
  },
  {
   "cell_type": "markdown",
   "id": "e5212c14",
   "metadata": {},
   "source": [
    "## 9. Write a Python function that takes a list and returns a new list with unique elements of the first list."
   ]
  },
  {
   "cell_type": "code",
   "execution_count": 17,
   "id": "20f899ae",
   "metadata": {},
   "outputs": [
    {
     "name": "stdout",
     "output_type": "stream",
     "text": [
      "[1, 2, 3, 4, 5]\n"
     ]
    }
   ],
   "source": [
    "def unique_list(l):\n",
    "  x = []\n",
    "  for i in l:\n",
    "    if i not in x:\n",
    "      x.append(i)\n",
    "  return x\n",
    "\n",
    "print(unique_list([1,2,3,3,3,3,4,5]))"
   ]
  },
  {
   "cell_type": "markdown",
   "id": "82c2c89b",
   "metadata": {},
   "source": [
    "# Strings"
   ]
  },
  {
   "cell_type": "markdown",
   "id": "c7f27068",
   "metadata": {},
   "source": [
    "## 1. Write a Python program to concatenate all elements in a list into a string and return it."
   ]
  },
  {
   "cell_type": "code",
   "execution_count": 18,
   "id": "5efa977e",
   "metadata": {},
   "outputs": [],
   "source": [
    "def list_str(str1):\n",
    "    final_str=''\n",
    "    for i in str1:\n",
    "        final_str = final_str + ' ' + i\n",
    "    print(final_str)"
   ]
  },
  {
   "cell_type": "code",
   "execution_count": 19,
   "id": "4ef1cd57",
   "metadata": {},
   "outputs": [
    {
     "name": "stdout",
     "output_type": "stream",
     "text": [
      " This is Basics of Python Assignment Submitted by M VinodKumar\n"
     ]
    }
   ],
   "source": [
    "list_str(['This', 'is', 'Basics of Python', 'Assignment', 'Submitted', 'by', 'M VinodKumar',])"
   ]
  },
  {
   "cell_type": "markdown",
   "id": "12531ca1",
   "metadata": {},
   "source": [
    "# Dictionary"
   ]
  },
  {
   "cell_type": "markdown",
   "id": "db0d43d2",
   "metadata": {},
   "source": [
    "## 1. Write a Python script to concatenate following dictionaries to create a new one."
   ]
  },
  {
   "cell_type": "code",
   "execution_count": 20,
   "id": "6f3cec1f",
   "metadata": {},
   "outputs": [],
   "source": [
    "dic1 = {1:10, 2:20}\n",
    "dic2 = {3:30, 4:40}\n",
    "dic3 = {5:50, 6:60}\n",
    "\n",
    "def dic_con(dic1,dic2,dic3):\n",
    "    dic4 = {**dic1, **dic2, **dic3}\n",
    "    print('Final dictionary is',dic4)"
   ]
  },
  {
   "cell_type": "code",
   "execution_count": 21,
   "id": "66118cb7",
   "metadata": {},
   "outputs": [
    {
     "name": "stdout",
     "output_type": "stream",
     "text": [
      "Final dictionary is {1: 10, 2: 20, 3: 30, 4: 40, 5: 50, 6: 60}\n"
     ]
    }
   ],
   "source": [
    "dic_con(dic1, dic2, dic3)"
   ]
  },
  {
   "cell_type": "markdown",
   "id": "55ddaa79",
   "metadata": {},
   "source": [
    "# Series"
   ]
  },
  {
   "cell_type": "markdown",
   "id": "049209f8",
   "metadata": {},
   "source": [
    "## 1. Write a Python program to add, subtract, multiple and divide two Pandas Series."
   ]
  },
  {
   "cell_type": "code",
   "execution_count": 22,
   "id": "fca6fd94",
   "metadata": {},
   "outputs": [
    {
     "name": "stdout",
     "output_type": "stream",
     "text": [
      "Addition:\n",
      " 0     3\n",
      "1     7\n",
      "2    11\n",
      "3    15\n",
      "4    19\n",
      "dtype: int64\n",
      "Subtraction:\n",
      " 0    1\n",
      "1    1\n",
      "2    1\n",
      "3    1\n",
      "4    1\n",
      "dtype: int64\n",
      "Multiplication:\n",
      " 0     2\n",
      "1    12\n",
      "2    30\n",
      "3    56\n",
      "4    90\n",
      "dtype: int64\n",
      "Division:\n",
      " 0    2.000000\n",
      "1    1.333333\n",
      "2    1.200000\n",
      "3    1.142857\n",
      "4    1.111111\n",
      "dtype: float64\n"
     ]
    }
   ],
   "source": [
    "df1 = pd.Series([2, 4, 6, 8, 10])\n",
    "df2 = pd.Series([1, 3, 5, 7, 9])\n",
    "df_add = df1 + df2\n",
    "print('Addition:\\n', df_add)\n",
    "df_sub = df1 - df2\n",
    "print('Subtraction:\\n', df_sub)\n",
    "df_mul = df1 * df2\n",
    "print('Multiplication:\\n',df_mul)\n",
    "df_div =df1/df2\n",
    "print('Division:\\n', df_div)"
   ]
  },
  {
   "cell_type": "markdown",
   "id": "f5cf328f",
   "metadata": {},
   "source": [
    "# DataFrame"
   ]
  },
  {
   "cell_type": "markdown",
   "id": "59fdc07c",
   "metadata": {},
   "source": [
    "## 1. Write a Pandas program to select the specified columns and rows from a given data frame."
   ]
  },
  {
   "cell_type": "code",
   "execution_count": 23,
   "id": "66596995",
   "metadata": {},
   "outputs": [
    {
     "name": "stdout",
     "output_type": "stream",
     "text": [
      "Select specific columns:\n",
      "        name  score\n",
      "a  Anastasia   12.5\n",
      "b       Dima    9.0\n",
      "c  Katherine   16.5\n",
      "d      James    NaN\n",
      "e      Emily    9.0\n",
      "f    Michael   20.0\n",
      "g    Matthew   14.5\n",
      "h      Laura    NaN\n",
      "i      Kevin    8.0\n",
      "j      Jonas   19.0\n"
     ]
    }
   ],
   "source": [
    "exam_data  = {'name': ['Anastasia', 'Dima', 'Katherine', 'James', 'Emily', 'Michael', 'Matthew', 'Laura', 'Kevin', 'Jonas'],\n",
    "              'score': [12.5, 9, 16.5, np.nan, 9, 20, 14.5, np.nan, 8, 19],\n",
    "              'attempts': [1, 3, 2, 3, 2, 3, 1, 1, 2, 1],\n",
    "              'qualify': ['yes', 'no', 'yes', 'no', 'no', 'yes', 'yes', 'no', 'no', 'yes']}\n",
    "\n",
    "labels = ['a', 'b', 'c', 'd', 'e', 'f', 'g', 'h', 'i', 'j']\n",
    "\n",
    "df_data = pd.DataFrame(exam_data , index=labels)\n",
    "\n",
    "print(\"Select specific columns:\")\n",
    "print(df_data[['name', 'score']])"
   ]
  },
  {
   "cell_type": "markdown",
   "id": "74d1ba78",
   "metadata": {},
   "source": [
    "## 2. Use Crime dataset from LMS\n",
    "## i) Find the aggregations like all moments of business decisions for all columns,value counts."
   ]
  },
  {
   "cell_type": "code",
   "execution_count": 24,
   "id": "e774621d",
   "metadata": {},
   "outputs": [
    {
     "data": {
      "text/html": [
       "<div>\n",
       "<style scoped>\n",
       "    .dataframe tbody tr th:only-of-type {\n",
       "        vertical-align: middle;\n",
       "    }\n",
       "\n",
       "    .dataframe tbody tr th {\n",
       "        vertical-align: top;\n",
       "    }\n",
       "\n",
       "    .dataframe thead th {\n",
       "        text-align: right;\n",
       "    }\n",
       "</style>\n",
       "<table border=\"1\" class=\"dataframe\">\n",
       "  <thead>\n",
       "    <tr style=\"text-align: right;\">\n",
       "      <th></th>\n",
       "      <th>Unnamed: 0</th>\n",
       "      <th>Murder</th>\n",
       "      <th>Assault</th>\n",
       "      <th>UrbanPop</th>\n",
       "      <th>Rape</th>\n",
       "    </tr>\n",
       "  </thead>\n",
       "  <tbody>\n",
       "    <tr>\n",
       "      <th>0</th>\n",
       "      <td>Alabama</td>\n",
       "      <td>13.2</td>\n",
       "      <td>236</td>\n",
       "      <td>58</td>\n",
       "      <td>21.2</td>\n",
       "    </tr>\n",
       "    <tr>\n",
       "      <th>1</th>\n",
       "      <td>Alaska</td>\n",
       "      <td>10.0</td>\n",
       "      <td>263</td>\n",
       "      <td>48</td>\n",
       "      <td>44.5</td>\n",
       "    </tr>\n",
       "    <tr>\n",
       "      <th>2</th>\n",
       "      <td>Arizona</td>\n",
       "      <td>8.1</td>\n",
       "      <td>294</td>\n",
       "      <td>80</td>\n",
       "      <td>31.0</td>\n",
       "    </tr>\n",
       "    <tr>\n",
       "      <th>3</th>\n",
       "      <td>Arkansas</td>\n",
       "      <td>8.8</td>\n",
       "      <td>190</td>\n",
       "      <td>50</td>\n",
       "      <td>19.5</td>\n",
       "    </tr>\n",
       "    <tr>\n",
       "      <th>4</th>\n",
       "      <td>California</td>\n",
       "      <td>9.0</td>\n",
       "      <td>276</td>\n",
       "      <td>91</td>\n",
       "      <td>40.6</td>\n",
       "    </tr>\n",
       "  </tbody>\n",
       "</table>\n",
       "</div>"
      ],
      "text/plain": [
       "   Unnamed: 0  Murder  Assault  UrbanPop  Rape\n",
       "0     Alabama    13.2      236        58  21.2\n",
       "1      Alaska    10.0      263        48  44.5\n",
       "2     Arizona     8.1      294        80  31.0\n",
       "3    Arkansas     8.8      190        50  19.5\n",
       "4  California     9.0      276        91  40.6"
      ]
     },
     "execution_count": 24,
     "metadata": {},
     "output_type": "execute_result"
    }
   ],
   "source": [
    "df_crime = pd.read_csv(r'D:\\EXCELR\\DATA ANALYST\\Assignments\\5. Basics of Python\\crime_data.csv')\n",
    "df_crime.head()"
   ]
  },
  {
   "cell_type": "code",
   "execution_count": 25,
   "id": "ddc4e3a9",
   "metadata": {},
   "outputs": [
    {
     "data": {
      "text/html": [
       "<div>\n",
       "<style scoped>\n",
       "    .dataframe tbody tr th:only-of-type {\n",
       "        vertical-align: middle;\n",
       "    }\n",
       "\n",
       "    .dataframe tbody tr th {\n",
       "        vertical-align: top;\n",
       "    }\n",
       "\n",
       "    .dataframe thead th {\n",
       "        text-align: right;\n",
       "    }\n",
       "</style>\n",
       "<table border=\"1\" class=\"dataframe\">\n",
       "  <thead>\n",
       "    <tr style=\"text-align: right;\">\n",
       "      <th></th>\n",
       "      <th>Murder</th>\n",
       "      <th>Assault</th>\n",
       "      <th>UrbanPop</th>\n",
       "      <th>Rape</th>\n",
       "    </tr>\n",
       "  </thead>\n",
       "  <tbody>\n",
       "    <tr>\n",
       "      <th>count</th>\n",
       "      <td>50.00000</td>\n",
       "      <td>50.000000</td>\n",
       "      <td>50.000000</td>\n",
       "      <td>50.000000</td>\n",
       "    </tr>\n",
       "    <tr>\n",
       "      <th>mean</th>\n",
       "      <td>7.78800</td>\n",
       "      <td>170.760000</td>\n",
       "      <td>65.540000</td>\n",
       "      <td>21.232000</td>\n",
       "    </tr>\n",
       "    <tr>\n",
       "      <th>std</th>\n",
       "      <td>4.35551</td>\n",
       "      <td>83.337661</td>\n",
       "      <td>14.474763</td>\n",
       "      <td>9.366385</td>\n",
       "    </tr>\n",
       "    <tr>\n",
       "      <th>min</th>\n",
       "      <td>0.80000</td>\n",
       "      <td>45.000000</td>\n",
       "      <td>32.000000</td>\n",
       "      <td>7.300000</td>\n",
       "    </tr>\n",
       "    <tr>\n",
       "      <th>25%</th>\n",
       "      <td>4.07500</td>\n",
       "      <td>109.000000</td>\n",
       "      <td>54.500000</td>\n",
       "      <td>15.075000</td>\n",
       "    </tr>\n",
       "    <tr>\n",
       "      <th>50%</th>\n",
       "      <td>7.25000</td>\n",
       "      <td>159.000000</td>\n",
       "      <td>66.000000</td>\n",
       "      <td>20.100000</td>\n",
       "    </tr>\n",
       "    <tr>\n",
       "      <th>75%</th>\n",
       "      <td>11.25000</td>\n",
       "      <td>249.000000</td>\n",
       "      <td>77.750000</td>\n",
       "      <td>26.175000</td>\n",
       "    </tr>\n",
       "    <tr>\n",
       "      <th>max</th>\n",
       "      <td>17.40000</td>\n",
       "      <td>337.000000</td>\n",
       "      <td>91.000000</td>\n",
       "      <td>46.000000</td>\n",
       "    </tr>\n",
       "  </tbody>\n",
       "</table>\n",
       "</div>"
      ],
      "text/plain": [
       "         Murder     Assault   UrbanPop       Rape\n",
       "count  50.00000   50.000000  50.000000  50.000000\n",
       "mean    7.78800  170.760000  65.540000  21.232000\n",
       "std     4.35551   83.337661  14.474763   9.366385\n",
       "min     0.80000   45.000000  32.000000   7.300000\n",
       "25%     4.07500  109.000000  54.500000  15.075000\n",
       "50%     7.25000  159.000000  66.000000  20.100000\n",
       "75%    11.25000  249.000000  77.750000  26.175000\n",
       "max    17.40000  337.000000  91.000000  46.000000"
      ]
     },
     "execution_count": 25,
     "metadata": {},
     "output_type": "execute_result"
    }
   ],
   "source": [
    "df_crime.describe()"
   ]
  },
  {
   "cell_type": "code",
   "execution_count": 26,
   "id": "1e33b905",
   "metadata": {},
   "outputs": [
    {
     "data": {
      "text/plain": [
       "Unnamed: 0      Murder  Assault  UrbanPop  Rape\n",
       "Alabama         13.2    236      58        21.2    1\n",
       "Pennsylvania    6.3     106      72        14.9    1\n",
       "Nevada          12.2    252      81        46.0    1\n",
       "New Hampshire   2.1     57       56        9.5     1\n",
       "New Jersey      7.4     159      89        18.8    1\n",
       "New Mexico      11.4    285      70        32.1    1\n",
       "New York        11.1    254      86        26.1    1\n",
       "North Carolina  13.0    337      45        16.1    1\n",
       "North Dakota    0.8     45       44        7.3     1\n",
       "Ohio            7.3     120      75        21.4    1\n",
       "Oklahoma        6.6     151      68        20.0    1\n",
       "Oregon          4.9     159      67        29.3    1\n",
       "Rhode Island    3.4     174      87        8.3     1\n",
       "Alaska          10.0    263      48        44.5    1\n",
       "South Carolina  14.4    279      48        22.5    1\n",
       "South Dakota    3.8     86       45        12.8    1\n",
       "Tennessee       13.2    188      59        26.9    1\n",
       "Texas           12.7    201      80        25.5    1\n",
       "Utah            3.2     120      80        22.9    1\n",
       "Vermont         2.2     48       32        11.2    1\n",
       "Virginia        8.5     156      63        20.7    1\n",
       "Washington      4.0     145      73        26.2    1\n",
       "West Virginia   5.7     81       39        9.3     1\n",
       "Wisconsin       2.6     53       66        10.8    1\n",
       "Nebraska        4.3     102      62        16.5    1\n",
       "Montana         6.0     109      53        16.4    1\n",
       "Missouri        9.0     178      70        28.2    1\n",
       "Mississippi     16.1    259      44        17.1    1\n",
       "Arizona         8.1     294      80        31.0    1\n",
       "Arkansas        8.8     190      50        19.5    1\n",
       "California      9.0     276      91        40.6    1\n",
       "Colorado        7.9     204      78        38.7    1\n",
       "Connecticut     3.3     110      77        11.1    1\n",
       "Delaware        5.9     238      72        15.8    1\n",
       "Florida         15.4    335      80        31.9    1\n",
       "Georgia         17.4    211      60        25.8    1\n",
       "Hawaii          5.3     46       83        20.2    1\n",
       "Idaho           2.6     120      54        14.2    1\n",
       "Illinois        10.4    249      83        24.0    1\n",
       "Indiana         7.2     113      65        21.0    1\n",
       "Iowa            2.2     56       57        11.3    1\n",
       "Kansas          6.0     115      66        18.0    1\n",
       "Kentucky        9.7     109      52        16.3    1\n",
       "Louisiana       15.4    249      66        22.2    1\n",
       "Maine           2.1     83       51        7.8     1\n",
       "Maryland        11.3    300      67        27.8    1\n",
       "Massachusetts   4.4     149      85        16.3    1\n",
       "Michigan        12.1    255      74        35.1    1\n",
       "Minnesota       2.7     72       66        14.9    1\n",
       "Wyoming         6.8     161      60        15.6    1\n",
       "dtype: int64"
      ]
     },
     "execution_count": 26,
     "metadata": {},
     "output_type": "execute_result"
    }
   ],
   "source": [
    "df_crime.value_counts()"
   ]
  },
  {
   "cell_type": "markdown",
   "id": "b6c274da",
   "metadata": {},
   "source": [
    "## ii) Do the plottings like plottings like histogram, boxplot, scatterplot, barplot, piechart,dot chart."
   ]
  },
  {
   "cell_type": "code",
   "execution_count": 27,
   "id": "8775e19e",
   "metadata": {},
   "outputs": [
    {
     "data": {
      "image/png": "[encoded data removed]",
      "text/plain": [
       "<Figure size 640x480 with 1 Axes>"
      ]
     },
     "metadata": {},
     "output_type": "display_data"
    }
   ],
   "source": [
    "# Histogram\n",
    "df_crime['Murder'].hist()\n",
    "plt.xlabel('Murders')\n",
    "plt.ylabel('Frequency')\n",
    "plt.show()"
   ]
  },
  {
   "cell_type": "code",
   "execution_count": 28,
   "id": "3a656ec3",
   "metadata": {},
   "outputs": [
    {
     "data": {
      "image/png": "[encoded data removed]",
      "text/plain": [
       "<Figure size 1000x700 with 1 Axes>"
      ]
     },
     "metadata": {},
     "output_type": "display_data"
    }
   ],
   "source": [
    "# Box Plot\n",
    "plt.figure( figsize=(10,7))\n",
    "sns.boxplot(x='Murder',y='Assault',data=df_crime)\n",
    "plt.title('Murder Vs Assault')\n",
    "plt.show()"
   ]
  },
  {
   "cell_type": "code",
   "execution_count": 29,
   "id": "9157a169",
   "metadata": {},
   "outputs": [
    {
     "data": {
      "image/png": "[encoded data removed]",
      "text/plain": [
       "<Figure size 1000x700 with 1 Axes>"
      ]
     },
     "metadata": {},
     "output_type": "display_data"
    }
   ],
   "source": [
    "# Scatter Plot\n",
    "plt.figure( figsize=(10,7))\n",
    "sns.scatterplot(x='Murder',y='Assault',data=df_crime)\n",
    "plt.title('Murder Vs Assault')\n",
    "plt.show()"
   ]
  },
  {
   "cell_type": "code",
   "execution_count": 30,
   "id": "c4b0f449",
   "metadata": {},
   "outputs": [
    {
     "data": {
      "image/png": "[encoded data removed]",
      "text/plain": [
       "<Figure size 1000x700 with 1 Axes>"
      ]
     },
     "metadata": {},
     "output_type": "display_data"
    }
   ],
   "source": [
    "# Bar Plot\n",
    "plt.figure( figsize=(10,7))\n",
    "sns.barplot(x='Murder',y='Assault',data=df_crime)\n",
    "plt.title('Murder Vs Assault')\n",
    "plt.show()"
   ]
  },
  {
   "cell_type": "code",
   "execution_count": 31,
   "id": "b0734113",
   "metadata": {},
   "outputs": [
    {
     "data": {
      "image/png": "[encoded data removed]",
      "text/plain": [
       "<Figure size 1000x700 with 1 Axes>"
      ]
     },
     "metadata": {},
     "output_type": "display_data"
    }
   ],
   "source": [
    "# Pie Chart\n",
    "crime = ['Murder', 'Assault', 'UrbanPop','Rape']\n",
    "\n",
    "data=[23,17,35,41]\n",
    "\n",
    "fig = plt.figure(figsize =(10, 7))\n",
    "plt.pie(data, labels = crime)\n",
    "\n",
    "plt.show()"
   ]
  },
  {
   "cell_type": "code",
   "execution_count": 32,
   "id": "e74b10ab",
   "metadata": {},
   "outputs": [
    {
     "data": {
      "text/plain": [
       "<matplotlib.collections.PathCollection at 0x21b4486b090>"
      ]
     },
     "execution_count": 32,
     "metadata": {},
     "output_type": "execute_result"
    },
    {
     "data": {
      "image/png": "[encoded data removed]",
      "text/plain": [
       "<Figure size 1280x800 with 1 Axes>"
      ]
     },
     "metadata": {},
     "output_type": "display_data"
    }
   ],
   "source": [
    "# Dot plot\n",
    "fig, ax = plt.subplots(figsize=(16,10), dpi= 80)\n",
    "ax.hlines(y=df_crime.index, xmin=11, xmax=26, color='gray', alpha=0.7, linewidth=1, linestyles='dashdot')\n",
    "ax.scatter(y=df_crime.index, x=df_crime.Murder, s=75, color='red', alpha=0.7)"
   ]
  },
  {
   "cell_type": "markdown",
   "id": "e7c78c59",
   "metadata": {},
   "source": [
    "## 3. Use mtcars dataset from LMS"
   ]
  },
  {
   "cell_type": "code",
   "execution_count": 33,
   "id": "88bcb9ee",
   "metadata": {},
   "outputs": [
    {
     "data": {
      "text/html": [
       "<div>\n",
       "<style scoped>\n",
       "    .dataframe tbody tr th:only-of-type {\n",
       "        vertical-align: middle;\n",
       "    }\n",
       "\n",
       "    .dataframe tbody tr th {\n",
       "        vertical-align: top;\n",
       "    }\n",
       "\n",
       "    .dataframe thead th {\n",
       "        text-align: right;\n",
       "    }\n",
       "</style>\n",
       "<table border=\"1\" class=\"dataframe\">\n",
       "  <thead>\n",
       "    <tr style=\"text-align: right;\">\n",
       "      <th></th>\n",
       "      <th>mpg</th>\n",
       "      <th>cyl</th>\n",
       "      <th>disp</th>\n",
       "      <th>hp</th>\n",
       "      <th>drat</th>\n",
       "      <th>wt</th>\n",
       "      <th>qsec</th>\n",
       "      <th>vs</th>\n",
       "      <th>am</th>\n",
       "      <th>gear</th>\n",
       "      <th>carb</th>\n",
       "    </tr>\n",
       "  </thead>\n",
       "  <tbody>\n",
       "    <tr>\n",
       "      <th>0</th>\n",
       "      <td>21.0</td>\n",
       "      <td>6</td>\n",
       "      <td>160.0</td>\n",
       "      <td>110</td>\n",
       "      <td>3.90</td>\n",
       "      <td>2.620</td>\n",
       "      <td>16.46</td>\n",
       "      <td>0</td>\n",
       "      <td>1</td>\n",
       "      <td>4</td>\n",
       "      <td>4</td>\n",
       "    </tr>\n",
       "    <tr>\n",
       "      <th>1</th>\n",
       "      <td>21.0</td>\n",
       "      <td>6</td>\n",
       "      <td>160.0</td>\n",
       "      <td>110</td>\n",
       "      <td>3.90</td>\n",
       "      <td>2.875</td>\n",
       "      <td>17.02</td>\n",
       "      <td>0</td>\n",
       "      <td>1</td>\n",
       "      <td>4</td>\n",
       "      <td>4</td>\n",
       "    </tr>\n",
       "    <tr>\n",
       "      <th>2</th>\n",
       "      <td>22.8</td>\n",
       "      <td>4</td>\n",
       "      <td>108.0</td>\n",
       "      <td>93</td>\n",
       "      <td>3.85</td>\n",
       "      <td>2.320</td>\n",
       "      <td>18.61</td>\n",
       "      <td>1</td>\n",
       "      <td>1</td>\n",
       "      <td>4</td>\n",
       "      <td>1</td>\n",
       "    </tr>\n",
       "    <tr>\n",
       "      <th>3</th>\n",
       "      <td>21.4</td>\n",
       "      <td>6</td>\n",
       "      <td>258.0</td>\n",
       "      <td>110</td>\n",
       "      <td>3.08</td>\n",
       "      <td>3.215</td>\n",
       "      <td>19.44</td>\n",
       "      <td>1</td>\n",
       "      <td>0</td>\n",
       "      <td>3</td>\n",
       "      <td>1</td>\n",
       "    </tr>\n",
       "    <tr>\n",
       "      <th>4</th>\n",
       "      <td>18.7</td>\n",
       "      <td>8</td>\n",
       "      <td>360.0</td>\n",
       "      <td>175</td>\n",
       "      <td>3.15</td>\n",
       "      <td>3.440</td>\n",
       "      <td>17.02</td>\n",
       "      <td>0</td>\n",
       "      <td>0</td>\n",
       "      <td>3</td>\n",
       "      <td>2</td>\n",
       "    </tr>\n",
       "  </tbody>\n",
       "</table>\n",
       "</div>"
      ],
      "text/plain": [
       "    mpg  cyl   disp   hp  drat     wt   qsec  vs  am  gear  carb\n",
       "0  21.0    6  160.0  110  3.90  2.620  16.46   0   1     4     4\n",
       "1  21.0    6  160.0  110  3.90  2.875  17.02   0   1     4     4\n",
       "2  22.8    4  108.0   93  3.85  2.320  18.61   1   1     4     1\n",
       "3  21.4    6  258.0  110  3.08  3.215  19.44   1   0     3     1\n",
       "4  18.7    8  360.0  175  3.15  3.440  17.02   0   0     3     2"
      ]
     },
     "execution_count": 33,
     "metadata": {},
     "output_type": "execute_result"
    }
   ],
   "source": [
    "df_mtcars = pd.read_csv(r'D:\\EXCELR\\DATA ANALYST\\Assignments\\5. Basics of Python\\mtcars.csv')\n",
    "df_mtcars.head()"
   ]
  },
  {
   "cell_type": "markdown",
   "id": "c438d103",
   "metadata": {},
   "source": [
    "## a). delete/ drop rows-10 to 15 of all columns"
   ]
  },
  {
   "cell_type": "code",
   "execution_count": 34,
   "id": "9988523c",
   "metadata": {},
   "outputs": [],
   "source": [
    "df_mtcars.drop(index= [10,11,12,13,14,15], inplace = True)"
   ]
  },
  {
   "cell_type": "code",
   "execution_count": 35,
   "id": "bd349744",
   "metadata": {},
   "outputs": [
    {
     "data": {
      "text/html": [
       "<div>\n",
       "<style scoped>\n",
       "    .dataframe tbody tr th:only-of-type {\n",
       "        vertical-align: middle;\n",
       "    }\n",
       "\n",
       "    .dataframe tbody tr th {\n",
       "        vertical-align: top;\n",
       "    }\n",
       "\n",
       "    .dataframe thead th {\n",
       "        text-align: right;\n",
       "    }\n",
       "</style>\n",
       "<table border=\"1\" class=\"dataframe\">\n",
       "  <thead>\n",
       "    <tr style=\"text-align: right;\">\n",
       "      <th></th>\n",
       "      <th>mpg</th>\n",
       "      <th>cyl</th>\n",
       "      <th>disp</th>\n",
       "      <th>hp</th>\n",
       "      <th>drat</th>\n",
       "      <th>wt</th>\n",
       "      <th>qsec</th>\n",
       "      <th>vs</th>\n",
       "      <th>am</th>\n",
       "      <th>gear</th>\n",
       "      <th>carb</th>\n",
       "    </tr>\n",
       "  </thead>\n",
       "  <tbody>\n",
       "    <tr>\n",
       "      <th>0</th>\n",
       "      <td>21.0</td>\n",
       "      <td>6</td>\n",
       "      <td>160.0</td>\n",
       "      <td>110</td>\n",
       "      <td>3.90</td>\n",
       "      <td>2.620</td>\n",
       "      <td>16.46</td>\n",
       "      <td>0</td>\n",
       "      <td>1</td>\n",
       "      <td>4</td>\n",
       "      <td>4</td>\n",
       "    </tr>\n",
       "    <tr>\n",
       "      <th>1</th>\n",
       "      <td>21.0</td>\n",
       "      <td>6</td>\n",
       "      <td>160.0</td>\n",
       "      <td>110</td>\n",
       "      <td>3.90</td>\n",
       "      <td>2.875</td>\n",
       "      <td>17.02</td>\n",
       "      <td>0</td>\n",
       "      <td>1</td>\n",
       "      <td>4</td>\n",
       "      <td>4</td>\n",
       "    </tr>\n",
       "    <tr>\n",
       "      <th>2</th>\n",
       "      <td>22.8</td>\n",
       "      <td>4</td>\n",
       "      <td>108.0</td>\n",
       "      <td>93</td>\n",
       "      <td>3.85</td>\n",
       "      <td>2.320</td>\n",
       "      <td>18.61</td>\n",
       "      <td>1</td>\n",
       "      <td>1</td>\n",
       "      <td>4</td>\n",
       "      <td>1</td>\n",
       "    </tr>\n",
       "    <tr>\n",
       "      <th>3</th>\n",
       "      <td>21.4</td>\n",
       "      <td>6</td>\n",
       "      <td>258.0</td>\n",
       "      <td>110</td>\n",
       "      <td>3.08</td>\n",
       "      <td>3.215</td>\n",
       "      <td>19.44</td>\n",
       "      <td>1</td>\n",
       "      <td>0</td>\n",
       "      <td>3</td>\n",
       "      <td>1</td>\n",
       "    </tr>\n",
       "    <tr>\n",
       "      <th>4</th>\n",
       "      <td>18.7</td>\n",
       "      <td>8</td>\n",
       "      <td>360.0</td>\n",
       "      <td>175</td>\n",
       "      <td>3.15</td>\n",
       "      <td>3.440</td>\n",
       "      <td>17.02</td>\n",
       "      <td>0</td>\n",
       "      <td>0</td>\n",
       "      <td>3</td>\n",
       "      <td>2</td>\n",
       "    </tr>\n",
       "    <tr>\n",
       "      <th>5</th>\n",
       "      <td>18.1</td>\n",
       "      <td>6</td>\n",
       "      <td>225.0</td>\n",
       "      <td>105</td>\n",
       "      <td>2.76</td>\n",
       "      <td>3.460</td>\n",
       "      <td>20.22</td>\n",
       "      <td>1</td>\n",
       "      <td>0</td>\n",
       "      <td>3</td>\n",
       "      <td>1</td>\n",
       "    </tr>\n",
       "    <tr>\n",
       "      <th>6</th>\n",
       "      <td>14.3</td>\n",
       "      <td>8</td>\n",
       "      <td>360.0</td>\n",
       "      <td>245</td>\n",
       "      <td>3.21</td>\n",
       "      <td>3.570</td>\n",
       "      <td>15.84</td>\n",
       "      <td>0</td>\n",
       "      <td>0</td>\n",
       "      <td>3</td>\n",
       "      <td>4</td>\n",
       "    </tr>\n",
       "    <tr>\n",
       "      <th>7</th>\n",
       "      <td>24.4</td>\n",
       "      <td>4</td>\n",
       "      <td>146.7</td>\n",
       "      <td>62</td>\n",
       "      <td>3.69</td>\n",
       "      <td>3.190</td>\n",
       "      <td>20.00</td>\n",
       "      <td>1</td>\n",
       "      <td>0</td>\n",
       "      <td>4</td>\n",
       "      <td>2</td>\n",
       "    </tr>\n",
       "    <tr>\n",
       "      <th>8</th>\n",
       "      <td>22.8</td>\n",
       "      <td>4</td>\n",
       "      <td>140.8</td>\n",
       "      <td>95</td>\n",
       "      <td>3.92</td>\n",
       "      <td>3.150</td>\n",
       "      <td>22.90</td>\n",
       "      <td>1</td>\n",
       "      <td>0</td>\n",
       "      <td>4</td>\n",
       "      <td>2</td>\n",
       "    </tr>\n",
       "    <tr>\n",
       "      <th>9</th>\n",
       "      <td>19.2</td>\n",
       "      <td>6</td>\n",
       "      <td>167.6</td>\n",
       "      <td>123</td>\n",
       "      <td>3.92</td>\n",
       "      <td>3.440</td>\n",
       "      <td>18.30</td>\n",
       "      <td>1</td>\n",
       "      <td>0</td>\n",
       "      <td>4</td>\n",
       "      <td>4</td>\n",
       "    </tr>\n",
       "    <tr>\n",
       "      <th>16</th>\n",
       "      <td>14.7</td>\n",
       "      <td>8</td>\n",
       "      <td>440.0</td>\n",
       "      <td>230</td>\n",
       "      <td>3.23</td>\n",
       "      <td>5.345</td>\n",
       "      <td>17.42</td>\n",
       "      <td>0</td>\n",
       "      <td>0</td>\n",
       "      <td>3</td>\n",
       "      <td>4</td>\n",
       "    </tr>\n",
       "    <tr>\n",
       "      <th>17</th>\n",
       "      <td>32.4</td>\n",
       "      <td>4</td>\n",
       "      <td>78.7</td>\n",
       "      <td>66</td>\n",
       "      <td>4.08</td>\n",
       "      <td>2.200</td>\n",
       "      <td>19.47</td>\n",
       "      <td>1</td>\n",
       "      <td>1</td>\n",
       "      <td>4</td>\n",
       "      <td>1</td>\n",
       "    </tr>\n",
       "    <tr>\n",
       "      <th>18</th>\n",
       "      <td>30.4</td>\n",
       "      <td>4</td>\n",
       "      <td>75.7</td>\n",
       "      <td>52</td>\n",
       "      <td>4.93</td>\n",
       "      <td>1.615</td>\n",
       "      <td>18.52</td>\n",
       "      <td>1</td>\n",
       "      <td>1</td>\n",
       "      <td>4</td>\n",
       "      <td>2</td>\n",
       "    </tr>\n",
       "    <tr>\n",
       "      <th>19</th>\n",
       "      <td>33.9</td>\n",
       "      <td>4</td>\n",
       "      <td>71.1</td>\n",
       "      <td>65</td>\n",
       "      <td>4.22</td>\n",
       "      <td>1.835</td>\n",
       "      <td>19.90</td>\n",
       "      <td>1</td>\n",
       "      <td>1</td>\n",
       "      <td>4</td>\n",
       "      <td>1</td>\n",
       "    </tr>\n",
       "    <tr>\n",
       "      <th>20</th>\n",
       "      <td>21.5</td>\n",
       "      <td>4</td>\n",
       "      <td>120.1</td>\n",
       "      <td>97</td>\n",
       "      <td>3.70</td>\n",
       "      <td>2.465</td>\n",
       "      <td>20.01</td>\n",
       "      <td>1</td>\n",
       "      <td>0</td>\n",
       "      <td>3</td>\n",
       "      <td>1</td>\n",
       "    </tr>\n",
       "  </tbody>\n",
       "</table>\n",
       "</div>"
      ],
      "text/plain": [
       "     mpg  cyl   disp   hp  drat     wt   qsec  vs  am  gear  carb\n",
       "0   21.0    6  160.0  110  3.90  2.620  16.46   0   1     4     4\n",
       "1   21.0    6  160.0  110  3.90  2.875  17.02   0   1     4     4\n",
       "2   22.8    4  108.0   93  3.85  2.320  18.61   1   1     4     1\n",
       "3   21.4    6  258.0  110  3.08  3.215  19.44   1   0     3     1\n",
       "4   18.7    8  360.0  175  3.15  3.440  17.02   0   0     3     2\n",
       "5   18.1    6  225.0  105  2.76  3.460  20.22   1   0     3     1\n",
       "6   14.3    8  360.0  245  3.21  3.570  15.84   0   0     3     4\n",
       "7   24.4    4  146.7   62  3.69  3.190  20.00   1   0     4     2\n",
       "8   22.8    4  140.8   95  3.92  3.150  22.90   1   0     4     2\n",
       "9   19.2    6  167.6  123  3.92  3.440  18.30   1   0     4     4\n",
       "16  14.7    8  440.0  230  3.23  5.345  17.42   0   0     3     4\n",
       "17  32.4    4   78.7   66  4.08  2.200  19.47   1   1     4     1\n",
       "18  30.4    4   75.7   52  4.93  1.615  18.52   1   1     4     2\n",
       "19  33.9    4   71.1   65  4.22  1.835  19.90   1   1     4     1\n",
       "20  21.5    4  120.1   97  3.70  2.465  20.01   1   0     3     1"
      ]
     },
     "execution_count": 35,
     "metadata": {},
     "output_type": "execute_result"
    }
   ],
   "source": [
    "df_mtcars.head(15)"
   ]
  },
  {
   "cell_type": "markdown",
   "id": "9b789877",
   "metadata": {},
   "source": [
    "## b). drop the VOL column"
   ]
  },
  {
   "cell_type": "code",
   "execution_count": 36,
   "id": "c640a321",
   "metadata": {},
   "outputs": [],
   "source": [
    "df_mtcars.drop(labels=['vs'],axis = 1,inplace=True)"
   ]
  },
  {
   "cell_type": "markdown",
   "id": "3e3c0d62",
   "metadata": {},
   "source": [
    "#### Volume column is not present"
   ]
  },
  {
   "cell_type": "markdown",
   "id": "c118bc29",
   "metadata": {},
   "source": [
    "### c). write the forloop to get value_counts of all cloumns"
   ]
  },
  {
   "cell_type": "code",
   "execution_count": 37,
   "id": "3a471c09",
   "metadata": {},
   "outputs": [
    {
     "name": "stdout",
     "output_type": "stream",
     "text": [
      "\n",
      "*** mpg ***\n",
      "21.0    2\n",
      "19.2    2\n",
      "22.8    2\n",
      "30.4    2\n",
      "21.4    2\n",
      "18.1    1\n",
      "15.5    1\n",
      "19.7    1\n",
      "15.8    1\n",
      "26.0    1\n",
      "27.3    1\n",
      "13.3    1\n",
      "15.2    1\n",
      "21.5    1\n",
      "14.3    1\n",
      "33.9    1\n",
      "32.4    1\n",
      "14.7    1\n",
      "18.7    1\n",
      "24.4    1\n",
      "15.0    1\n",
      "Name: mpg, dtype: int64\n",
      "\n",
      "*** cyl ***\n",
      "4    11\n",
      "8     9\n",
      "6     6\n",
      "Name: cyl, dtype: int64\n",
      "\n",
      "*** disp ***\n",
      "160.0    2\n",
      "360.0    2\n",
      "318.0    1\n",
      "301.0    1\n",
      "145.0    1\n",
      "351.0    1\n",
      "95.1     1\n",
      "120.3    1\n",
      "79.0     1\n",
      "400.0    1\n",
      "350.0    1\n",
      "304.0    1\n",
      "120.1    1\n",
      "108.0    1\n",
      "71.1     1\n",
      "75.7     1\n",
      "78.7     1\n",
      "440.0    1\n",
      "167.6    1\n",
      "140.8    1\n",
      "146.7    1\n",
      "225.0    1\n",
      "258.0    1\n",
      "121.0    1\n",
      "Name: disp, dtype: int64\n",
      "\n",
      "*** hp ***\n",
      "110    3\n",
      "175    3\n",
      "245    2\n",
      "150    2\n",
      "66     2\n",
      "62     1\n",
      "95     1\n",
      "123    1\n",
      "230    1\n",
      "93     1\n",
      "52     1\n",
      "65     1\n",
      "97     1\n",
      "105    1\n",
      "91     1\n",
      "113    1\n",
      "264    1\n",
      "335    1\n",
      "109    1\n",
      "Name: hp, dtype: int64\n",
      "\n",
      "*** drat ***\n",
      "3.90    2\n",
      "2.76    2\n",
      "4.22    2\n",
      "3.92    2\n",
      "4.08    2\n",
      "3.15    2\n",
      "3.08    2\n",
      "3.21    1\n",
      "3.69    1\n",
      "3.23    1\n",
      "3.85    1\n",
      "4.93    1\n",
      "3.70    1\n",
      "3.73    1\n",
      "4.43    1\n",
      "3.77    1\n",
      "3.62    1\n",
      "3.54    1\n",
      "4.11    1\n",
      "Name: drat, dtype: int64\n",
      "\n",
      "*** wt ***\n",
      "3.440    2\n",
      "3.570    2\n",
      "2.620    1\n",
      "2.465    1\n",
      "2.770    1\n",
      "3.170    1\n",
      "1.513    1\n",
      "2.140    1\n",
      "1.935    1\n",
      "3.845    1\n",
      "3.840    1\n",
      "3.435    1\n",
      "3.520    1\n",
      "1.835    1\n",
      "2.875    1\n",
      "1.615    1\n",
      "2.200    1\n",
      "5.345    1\n",
      "3.150    1\n",
      "3.190    1\n",
      "3.460    1\n",
      "3.215    1\n",
      "2.320    1\n",
      "2.780    1\n",
      "Name: wt, dtype: int64\n",
      "\n",
      "*** qsec ***\n",
      "17.02    2\n",
      "16.46    1\n",
      "20.01    1\n",
      "14.60    1\n",
      "15.50    1\n",
      "14.50    1\n",
      "16.90    1\n",
      "16.70    1\n",
      "18.90    1\n",
      "17.05    1\n",
      "15.41    1\n",
      "17.30    1\n",
      "16.87    1\n",
      "19.90    1\n",
      "18.52    1\n",
      "19.47    1\n",
      "17.42    1\n",
      "18.30    1\n",
      "22.90    1\n",
      "20.00    1\n",
      "15.84    1\n",
      "20.22    1\n",
      "19.44    1\n",
      "18.61    1\n",
      "18.60    1\n",
      "Name: qsec, dtype: int64\n",
      "\n",
      "*** am ***\n",
      "1    13\n",
      "0    13\n",
      "Name: am, dtype: int64\n",
      "\n",
      "*** gear ***\n",
      "4    11\n",
      "3    10\n",
      "5     5\n",
      "Name: gear, dtype: int64\n",
      "\n",
      "*** carb ***\n",
      "2    10\n",
      "4     7\n",
      "1     7\n",
      "6     1\n",
      "8     1\n",
      "Name: carb, dtype: int64\n"
     ]
    }
   ],
   "source": [
    "for col in df_mtcars.columns:\n",
    "    print(\"\\n*** %s ***\" %col)\n",
    "    print(df_mtcars[col].value_counts())"
   ]
  },
  {
   "cell_type": "markdown",
   "id": "ad122531",
   "metadata": {},
   "source": [
    "## 4. Use Bank Dataset from LMS"
   ]
  },
  {
   "cell_type": "code",
   "execution_count": 38,
   "id": "74b70d6e",
   "metadata": {},
   "outputs": [
    {
     "data": {
      "text/html": [
       "<div>\n",
       "<style scoped>\n",
       "    .dataframe tbody tr th:only-of-type {\n",
       "        vertical-align: middle;\n",
       "    }\n",
       "\n",
       "    .dataframe tbody tr th {\n",
       "        vertical-align: top;\n",
       "    }\n",
       "\n",
       "    .dataframe thead th {\n",
       "        text-align: right;\n",
       "    }\n",
       "</style>\n",
       "<table border=\"1\" class=\"dataframe\">\n",
       "  <thead>\n",
       "    <tr style=\"text-align: right;\">\n",
       "      <th></th>\n",
       "      <th>age</th>\n",
       "      <th>job</th>\n",
       "      <th>marital</th>\n",
       "      <th>education</th>\n",
       "      <th>default</th>\n",
       "      <th>balance</th>\n",
       "      <th>housing</th>\n",
       "      <th>loan</th>\n",
       "      <th>contact</th>\n",
       "      <th>day</th>\n",
       "      <th>month</th>\n",
       "      <th>duration</th>\n",
       "      <th>campaign</th>\n",
       "      <th>pdays</th>\n",
       "      <th>previous</th>\n",
       "      <th>poutcome</th>\n",
       "      <th>y</th>\n",
       "    </tr>\n",
       "  </thead>\n",
       "  <tbody>\n",
       "    <tr>\n",
       "      <th>0</th>\n",
       "      <td>58</td>\n",
       "      <td>management</td>\n",
       "      <td>married</td>\n",
       "      <td>tertiary</td>\n",
       "      <td>no</td>\n",
       "      <td>2143</td>\n",
       "      <td>yes</td>\n",
       "      <td>no</td>\n",
       "      <td>unknown</td>\n",
       "      <td>5</td>\n",
       "      <td>may</td>\n",
       "      <td>261</td>\n",
       "      <td>1</td>\n",
       "      <td>-1</td>\n",
       "      <td>0</td>\n",
       "      <td>unknown</td>\n",
       "      <td>no</td>\n",
       "    </tr>\n",
       "    <tr>\n",
       "      <th>1</th>\n",
       "      <td>44</td>\n",
       "      <td>technician</td>\n",
       "      <td>single</td>\n",
       "      <td>secondary</td>\n",
       "      <td>no</td>\n",
       "      <td>29</td>\n",
       "      <td>yes</td>\n",
       "      <td>no</td>\n",
       "      <td>unknown</td>\n",
       "      <td>5</td>\n",
       "      <td>may</td>\n",
       "      <td>151</td>\n",
       "      <td>1</td>\n",
       "      <td>-1</td>\n",
       "      <td>0</td>\n",
       "      <td>unknown</td>\n",
       "      <td>no</td>\n",
       "    </tr>\n",
       "    <tr>\n",
       "      <th>2</th>\n",
       "      <td>33</td>\n",
       "      <td>entrepreneur</td>\n",
       "      <td>married</td>\n",
       "      <td>secondary</td>\n",
       "      <td>no</td>\n",
       "      <td>2</td>\n",
       "      <td>yes</td>\n",
       "      <td>yes</td>\n",
       "      <td>unknown</td>\n",
       "      <td>5</td>\n",
       "      <td>may</td>\n",
       "      <td>76</td>\n",
       "      <td>1</td>\n",
       "      <td>-1</td>\n",
       "      <td>0</td>\n",
       "      <td>unknown</td>\n",
       "      <td>no</td>\n",
       "    </tr>\n",
       "    <tr>\n",
       "      <th>3</th>\n",
       "      <td>47</td>\n",
       "      <td>blue-collar</td>\n",
       "      <td>married</td>\n",
       "      <td>unknown</td>\n",
       "      <td>no</td>\n",
       "      <td>1506</td>\n",
       "      <td>yes</td>\n",
       "      <td>no</td>\n",
       "      <td>unknown</td>\n",
       "      <td>5</td>\n",
       "      <td>may</td>\n",
       "      <td>92</td>\n",
       "      <td>1</td>\n",
       "      <td>-1</td>\n",
       "      <td>0</td>\n",
       "      <td>unknown</td>\n",
       "      <td>no</td>\n",
       "    </tr>\n",
       "    <tr>\n",
       "      <th>4</th>\n",
       "      <td>33</td>\n",
       "      <td>unknown</td>\n",
       "      <td>single</td>\n",
       "      <td>unknown</td>\n",
       "      <td>no</td>\n",
       "      <td>1</td>\n",
       "      <td>no</td>\n",
       "      <td>no</td>\n",
       "      <td>unknown</td>\n",
       "      <td>5</td>\n",
       "      <td>may</td>\n",
       "      <td>198</td>\n",
       "      <td>1</td>\n",
       "      <td>-1</td>\n",
       "      <td>0</td>\n",
       "      <td>unknown</td>\n",
       "      <td>no</td>\n",
       "    </tr>\n",
       "  </tbody>\n",
       "</table>\n",
       "</div>"
      ],
      "text/plain": [
       "   age           job  marital  education default  balance housing loan  \\\n",
       "0   58    management  married   tertiary      no     2143     yes   no   \n",
       "1   44    technician   single  secondary      no       29     yes   no   \n",
       "2   33  entrepreneur  married  secondary      no        2     yes  yes   \n",
       "3   47   blue-collar  married    unknown      no     1506     yes   no   \n",
       "4   33       unknown   single    unknown      no        1      no   no   \n",
       "\n",
       "   contact  day month  duration  campaign  pdays  previous poutcome   y  \n",
       "0  unknown    5   may       261         1     -1         0  unknown  no  \n",
       "1  unknown    5   may       151         1     -1         0  unknown  no  \n",
       "2  unknown    5   may        76         1     -1         0  unknown  no  \n",
       "3  unknown    5   may        92         1     -1         0  unknown  no  \n",
       "4  unknown    5   may       198         1     -1         0  unknown  no  "
      ]
     },
     "execution_count": 38,
     "metadata": {},
     "output_type": "execute_result"
    }
   ],
   "source": [
    "bank = pd.read_csv(r'D:\\EXCELR\\DATA ANALYST\\Assignments\\5. Basics of Python\\bank-full.csv',sep=';')\n",
    "bank.head()"
   ]
  },
  {
   "cell_type": "markdown",
   "id": "b72507b6",
   "metadata": {},
   "source": [
    "### a). change all the categorical columns into numerical by creating Dummies and using label encoder."
   ]
  },
  {
   "cell_type": "code",
   "execution_count": 39,
   "id": "4f0b8813",
   "metadata": {},
   "outputs": [],
   "source": [
    "from sklearn import preprocessing"
   ]
  },
  {
   "cell_type": "code",
   "execution_count": null,
   "id": "00164f45",
   "metadata": {},
   "outputs": [],
   "source": [
    "label_encoder = preprocessing.LabelEncoder()\n",
    "bank['job']= label_encoder.fit_transform(bank['job']) \n",
    "bank['marital']= label_encoder.fit_transform(bank['marital'])\n",
    "bank['education']= label_encoder.fit_transform(bank['education'])\n",
    "bank['default']= label_encoder.fit_transform(bank['default'])\n",
    "bank['housing']= label_encoder.fit_transform(bank['housing'])\n",
    "bank['loan']= label_encoder.fit_transform(bank['loan'])\n",
    "bank['contact']= label_encoder.fit_transform(bank['contact'])\n",
    "bank['month']= label_encoder.fit_transform(bank['month'])\n",
    "bank['poutcome']= label_encoder.fit_transform(bank['poutcome'])\n",
    "bank['y']= label_encoder.fit_transform(bank['y'])"
   ]
  },
  {
   "cell_type": "code",
   "execution_count": 40,
   "id": "6bc9f0ea",
   "metadata": {},
   "outputs": [
    {
     "data": {
      "text/html": [
       "<div>\n",
       "<style scoped>\n",
       "    .dataframe tbody tr th:only-of-type {\n",
       "        vertical-align: middle;\n",
       "    }\n",
       "\n",
       "    .dataframe tbody tr th {\n",
       "        vertical-align: top;\n",
       "    }\n",
       "\n",
       "    .dataframe thead th {\n",
       "        text-align: right;\n",
       "    }\n",
       "</style>\n",
       "<table border=\"1\" class=\"dataframe\">\n",
       "  <thead>\n",
       "    <tr style=\"text-align: right;\">\n",
       "      <th></th>\n",
       "      <th>age</th>\n",
       "      <th>job</th>\n",
       "      <th>marital</th>\n",
       "      <th>education</th>\n",
       "      <th>default</th>\n",
       "      <th>balance</th>\n",
       "      <th>housing</th>\n",
       "      <th>loan</th>\n",
       "      <th>contact</th>\n",
       "      <th>day</th>\n",
       "      <th>month</th>\n",
       "      <th>duration</th>\n",
       "      <th>campaign</th>\n",
       "      <th>pdays</th>\n",
       "      <th>previous</th>\n",
       "      <th>poutcome</th>\n",
       "      <th>y</th>\n",
       "    </tr>\n",
       "  </thead>\n",
       "  <tbody>\n",
       "    <tr>\n",
       "      <th>0</th>\n",
       "      <td>58</td>\n",
       "      <td>management</td>\n",
       "      <td>married</td>\n",
       "      <td>tertiary</td>\n",
       "      <td>no</td>\n",
       "      <td>2143</td>\n",
       "      <td>yes</td>\n",
       "      <td>no</td>\n",
       "      <td>unknown</td>\n",
       "      <td>5</td>\n",
       "      <td>may</td>\n",
       "      <td>261</td>\n",
       "      <td>1</td>\n",
       "      <td>-1</td>\n",
       "      <td>0</td>\n",
       "      <td>unknown</td>\n",
       "      <td>no</td>\n",
       "    </tr>\n",
       "    <tr>\n",
       "      <th>1</th>\n",
       "      <td>44</td>\n",
       "      <td>technician</td>\n",
       "      <td>single</td>\n",
       "      <td>secondary</td>\n",
       "      <td>no</td>\n",
       "      <td>29</td>\n",
       "      <td>yes</td>\n",
       "      <td>no</td>\n",
       "      <td>unknown</td>\n",
       "      <td>5</td>\n",
       "      <td>may</td>\n",
       "      <td>151</td>\n",
       "      <td>1</td>\n",
       "      <td>-1</td>\n",
       "      <td>0</td>\n",
       "      <td>unknown</td>\n",
       "      <td>no</td>\n",
       "    </tr>\n",
       "    <tr>\n",
       "      <th>2</th>\n",
       "      <td>33</td>\n",
       "      <td>entrepreneur</td>\n",
       "      <td>married</td>\n",
       "      <td>secondary</td>\n",
       "      <td>no</td>\n",
       "      <td>2</td>\n",
       "      <td>yes</td>\n",
       "      <td>yes</td>\n",
       "      <td>unknown</td>\n",
       "      <td>5</td>\n",
       "      <td>may</td>\n",
       "      <td>76</td>\n",
       "      <td>1</td>\n",
       "      <td>-1</td>\n",
       "      <td>0</td>\n",
       "      <td>unknown</td>\n",
       "      <td>no</td>\n",
       "    </tr>\n",
       "    <tr>\n",
       "      <th>3</th>\n",
       "      <td>47</td>\n",
       "      <td>blue-collar</td>\n",
       "      <td>married</td>\n",
       "      <td>unknown</td>\n",
       "      <td>no</td>\n",
       "      <td>1506</td>\n",
       "      <td>yes</td>\n",
       "      <td>no</td>\n",
       "      <td>unknown</td>\n",
       "      <td>5</td>\n",
       "      <td>may</td>\n",
       "      <td>92</td>\n",
       "      <td>1</td>\n",
       "      <td>-1</td>\n",
       "      <td>0</td>\n",
       "      <td>unknown</td>\n",
       "      <td>no</td>\n",
       "    </tr>\n",
       "    <tr>\n",
       "      <th>4</th>\n",
       "      <td>33</td>\n",
       "      <td>unknown</td>\n",
       "      <td>single</td>\n",
       "      <td>unknown</td>\n",
       "      <td>no</td>\n",
       "      <td>1</td>\n",
       "      <td>no</td>\n",
       "      <td>no</td>\n",
       "      <td>unknown</td>\n",
       "      <td>5</td>\n",
       "      <td>may</td>\n",
       "      <td>198</td>\n",
       "      <td>1</td>\n",
       "      <td>-1</td>\n",
       "      <td>0</td>\n",
       "      <td>unknown</td>\n",
       "      <td>no</td>\n",
       "    </tr>\n",
       "  </tbody>\n",
       "</table>\n",
       "</div>"
      ],
      "text/plain": [
       "   age           job  marital  education default  balance housing loan  \\\n",
       "0   58    management  married   tertiary      no     2143     yes   no   \n",
       "1   44    technician   single  secondary      no       29     yes   no   \n",
       "2   33  entrepreneur  married  secondary      no        2     yes  yes   \n",
       "3   47   blue-collar  married    unknown      no     1506     yes   no   \n",
       "4   33       unknown   single    unknown      no        1      no   no   \n",
       "\n",
       "   contact  day month  duration  campaign  pdays  previous poutcome   y  \n",
       "0  unknown    5   may       261         1     -1         0  unknown  no  \n",
       "1  unknown    5   may       151         1     -1         0  unknown  no  \n",
       "2  unknown    5   may        76         1     -1         0  unknown  no  \n",
       "3  unknown    5   may        92         1     -1         0  unknown  no  \n",
       "4  unknown    5   may       198         1     -1         0  unknown  no  "
      ]
     },
     "execution_count": 40,
     "metadata": {},
     "output_type": "execute_result"
    }
   ],
   "source": [
    "bank.head()"
   ]
  },
  {
   "cell_type": "markdown",
   "id": "592df784",
   "metadata": {},
   "source": [
    "### b). rename all the column names DF"
   ]
  },
  {
   "cell_type": "code",
   "execution_count": 41,
   "id": "af18e5f5",
   "metadata": {},
   "outputs": [
    {
     "data": {
      "text/html": [
       "<div>\n",
       "<style scoped>\n",
       "    .dataframe tbody tr th:only-of-type {\n",
       "        vertical-align: middle;\n",
       "    }\n",
       "\n",
       "    .dataframe tbody tr th {\n",
       "        vertical-align: top;\n",
       "    }\n",
       "\n",
       "    .dataframe thead th {\n",
       "        text-align: right;\n",
       "    }\n",
       "</style>\n",
       "<table border=\"1\" class=\"dataframe\">\n",
       "  <thead>\n",
       "    <tr style=\"text-align: right;\">\n",
       "      <th></th>\n",
       "      <th>Employee Age</th>\n",
       "      <th>Job Role</th>\n",
       "      <th>Marital Status</th>\n",
       "      <th>Educational Specification</th>\n",
       "      <th>Default Status</th>\n",
       "      <th>Account Balance</th>\n",
       "      <th>Housing Status</th>\n",
       "      <th>Loan Status</th>\n",
       "      <th>Contact Number</th>\n",
       "      <th>Week Day</th>\n",
       "      <th>Month Name</th>\n",
       "      <th>Duration Days</th>\n",
       "      <th>Campaign Days</th>\n",
       "      <th>Pdays Staus</th>\n",
       "      <th>Previous Status</th>\n",
       "      <th>Poutcome Status</th>\n",
       "      <th>Y Status</th>\n",
       "    </tr>\n",
       "  </thead>\n",
       "  <tbody>\n",
       "    <tr>\n",
       "      <th>0</th>\n",
       "      <td>58</td>\n",
       "      <td>management</td>\n",
       "      <td>married</td>\n",
       "      <td>tertiary</td>\n",
       "      <td>no</td>\n",
       "      <td>2143</td>\n",
       "      <td>yes</td>\n",
       "      <td>no</td>\n",
       "      <td>unknown</td>\n",
       "      <td>5</td>\n",
       "      <td>may</td>\n",
       "      <td>261</td>\n",
       "      <td>1</td>\n",
       "      <td>-1</td>\n",
       "      <td>0</td>\n",
       "      <td>unknown</td>\n",
       "      <td>no</td>\n",
       "    </tr>\n",
       "    <tr>\n",
       "      <th>1</th>\n",
       "      <td>44</td>\n",
       "      <td>technician</td>\n",
       "      <td>single</td>\n",
       "      <td>secondary</td>\n",
       "      <td>no</td>\n",
       "      <td>29</td>\n",
       "      <td>yes</td>\n",
       "      <td>no</td>\n",
       "      <td>unknown</td>\n",
       "      <td>5</td>\n",
       "      <td>may</td>\n",
       "      <td>151</td>\n",
       "      <td>1</td>\n",
       "      <td>-1</td>\n",
       "      <td>0</td>\n",
       "      <td>unknown</td>\n",
       "      <td>no</td>\n",
       "    </tr>\n",
       "    <tr>\n",
       "      <th>2</th>\n",
       "      <td>33</td>\n",
       "      <td>entrepreneur</td>\n",
       "      <td>married</td>\n",
       "      <td>secondary</td>\n",
       "      <td>no</td>\n",
       "      <td>2</td>\n",
       "      <td>yes</td>\n",
       "      <td>yes</td>\n",
       "      <td>unknown</td>\n",
       "      <td>5</td>\n",
       "      <td>may</td>\n",
       "      <td>76</td>\n",
       "      <td>1</td>\n",
       "      <td>-1</td>\n",
       "      <td>0</td>\n",
       "      <td>unknown</td>\n",
       "      <td>no</td>\n",
       "    </tr>\n",
       "    <tr>\n",
       "      <th>3</th>\n",
       "      <td>47</td>\n",
       "      <td>blue-collar</td>\n",
       "      <td>married</td>\n",
       "      <td>unknown</td>\n",
       "      <td>no</td>\n",
       "      <td>1506</td>\n",
       "      <td>yes</td>\n",
       "      <td>no</td>\n",
       "      <td>unknown</td>\n",
       "      <td>5</td>\n",
       "      <td>may</td>\n",
       "      <td>92</td>\n",
       "      <td>1</td>\n",
       "      <td>-1</td>\n",
       "      <td>0</td>\n",
       "      <td>unknown</td>\n",
       "      <td>no</td>\n",
       "    </tr>\n",
       "    <tr>\n",
       "      <th>4</th>\n",
       "      <td>33</td>\n",
       "      <td>unknown</td>\n",
       "      <td>single</td>\n",
       "      <td>unknown</td>\n",
       "      <td>no</td>\n",
       "      <td>1</td>\n",
       "      <td>no</td>\n",
       "      <td>no</td>\n",
       "      <td>unknown</td>\n",
       "      <td>5</td>\n",
       "      <td>may</td>\n",
       "      <td>198</td>\n",
       "      <td>1</td>\n",
       "      <td>-1</td>\n",
       "      <td>0</td>\n",
       "      <td>unknown</td>\n",
       "      <td>no</td>\n",
       "    </tr>\n",
       "  </tbody>\n",
       "</table>\n",
       "</div>"
      ],
      "text/plain": [
       "   Employee Age      Job Role Marital Status Educational Specification  \\\n",
       "0            58    management        married                  tertiary   \n",
       "1            44    technician         single                 secondary   \n",
       "2            33  entrepreneur        married                 secondary   \n",
       "3            47   blue-collar        married                   unknown   \n",
       "4            33       unknown         single                   unknown   \n",
       "\n",
       "  Default Status  Account Balance Housing Status Loan Status Contact Number  \\\n",
       "0             no             2143            yes          no        unknown   \n",
       "1             no               29            yes          no        unknown   \n",
       "2             no                2            yes         yes        unknown   \n",
       "3             no             1506            yes          no        unknown   \n",
       "4             no                1             no          no        unknown   \n",
       "\n",
       "   Week Day Month Name  Duration Days  Campaign Days  Pdays Staus  \\\n",
       "0         5        may            261              1           -1   \n",
       "1         5        may            151              1           -1   \n",
       "2         5        may             76              1           -1   \n",
       "3         5        may             92              1           -1   \n",
       "4         5        may            198              1           -1   \n",
       "\n",
       "   Previous Status Poutcome Status Y Status  \n",
       "0                0         unknown       no  \n",
       "1                0         unknown       no  \n",
       "2                0         unknown       no  \n",
       "3                0         unknown       no  \n",
       "4                0         unknown       no  "
      ]
     },
     "execution_count": 41,
     "metadata": {},
     "output_type": "execute_result"
    }
   ],
   "source": [
    "new_names = {'age':'Employee Age',\n",
    "             'job':'Job Role',\n",
    "             'marital':'Marital Status', \n",
    "             'education':'Educational Specification',\n",
    "             'default':'Default Status',\n",
    "             'balance':'Account Balance',\n",
    "             'housing':'Housing Status', \n",
    "             'loan':'Loan Status',\n",
    "             'contact':'Contact Number',\n",
    "             'day':'Week Day',\n",
    "             'month':'Month Name',\n",
    "             'duration':'Duration Days',\n",
    "             'campaign':'Campaign Days',\n",
    "             'pdays':'Pdays Staus',\n",
    "             'previous':'Previous Status',\n",
    "             'poutcome':'Poutcome Status', \n",
    "             'y':'Y Status'}\n",
    "bank.rename(columns=new_names,\n",
    "          inplace=True)\n",
    "bank.head()"
   ]
  },
  {
   "cell_type": "markdown",
   "id": "bea3e46f",
   "metadata": {},
   "source": [
    "### c). Rename only one specific column in DF"
   ]
  },
  {
   "cell_type": "code",
   "execution_count": 42,
   "id": "0064cc69",
   "metadata": {},
   "outputs": [
    {
     "data": {
      "text/html": [
       "<div>\n",
       "<style scoped>\n",
       "    .dataframe tbody tr th:only-of-type {\n",
       "        vertical-align: middle;\n",
       "    }\n",
       "\n",
       "    .dataframe tbody tr th {\n",
       "        vertical-align: top;\n",
       "    }\n",
       "\n",
       "    .dataframe thead th {\n",
       "        text-align: right;\n",
       "    }\n",
       "</style>\n",
       "<table border=\"1\" class=\"dataframe\">\n",
       "  <thead>\n",
       "    <tr style=\"text-align: right;\">\n",
       "      <th></th>\n",
       "      <th>Emp Age</th>\n",
       "      <th>Job Role</th>\n",
       "      <th>Marital Status</th>\n",
       "      <th>Educational Specification</th>\n",
       "      <th>Default Status</th>\n",
       "      <th>Account Balance</th>\n",
       "      <th>Housing Status</th>\n",
       "      <th>Loan Status</th>\n",
       "      <th>Contact Number</th>\n",
       "      <th>Week Day</th>\n",
       "      <th>Month Name</th>\n",
       "      <th>Duration Days</th>\n",
       "      <th>Campaign Days</th>\n",
       "      <th>Pdays Staus</th>\n",
       "      <th>Previous Status</th>\n",
       "      <th>Poutcome Status</th>\n",
       "      <th>Y Status</th>\n",
       "    </tr>\n",
       "  </thead>\n",
       "  <tbody>\n",
       "    <tr>\n",
       "      <th>0</th>\n",
       "      <td>58</td>\n",
       "      <td>management</td>\n",
       "      <td>married</td>\n",
       "      <td>tertiary</td>\n",
       "      <td>no</td>\n",
       "      <td>2143</td>\n",
       "      <td>yes</td>\n",
       "      <td>no</td>\n",
       "      <td>unknown</td>\n",
       "      <td>5</td>\n",
       "      <td>may</td>\n",
       "      <td>261</td>\n",
       "      <td>1</td>\n",
       "      <td>-1</td>\n",
       "      <td>0</td>\n",
       "      <td>unknown</td>\n",
       "      <td>no</td>\n",
       "    </tr>\n",
       "    <tr>\n",
       "      <th>1</th>\n",
       "      <td>44</td>\n",
       "      <td>technician</td>\n",
       "      <td>single</td>\n",
       "      <td>secondary</td>\n",
       "      <td>no</td>\n",
       "      <td>29</td>\n",
       "      <td>yes</td>\n",
       "      <td>no</td>\n",
       "      <td>unknown</td>\n",
       "      <td>5</td>\n",
       "      <td>may</td>\n",
       "      <td>151</td>\n",
       "      <td>1</td>\n",
       "      <td>-1</td>\n",
       "      <td>0</td>\n",
       "      <td>unknown</td>\n",
       "      <td>no</td>\n",
       "    </tr>\n",
       "    <tr>\n",
       "      <th>2</th>\n",
       "      <td>33</td>\n",
       "      <td>entrepreneur</td>\n",
       "      <td>married</td>\n",
       "      <td>secondary</td>\n",
       "      <td>no</td>\n",
       "      <td>2</td>\n",
       "      <td>yes</td>\n",
       "      <td>yes</td>\n",
       "      <td>unknown</td>\n",
       "      <td>5</td>\n",
       "      <td>may</td>\n",
       "      <td>76</td>\n",
       "      <td>1</td>\n",
       "      <td>-1</td>\n",
       "      <td>0</td>\n",
       "      <td>unknown</td>\n",
       "      <td>no</td>\n",
       "    </tr>\n",
       "    <tr>\n",
       "      <th>3</th>\n",
       "      <td>47</td>\n",
       "      <td>blue-collar</td>\n",
       "      <td>married</td>\n",
       "      <td>unknown</td>\n",
       "      <td>no</td>\n",
       "      <td>1506</td>\n",
       "      <td>yes</td>\n",
       "      <td>no</td>\n",
       "      <td>unknown</td>\n",
       "      <td>5</td>\n",
       "      <td>may</td>\n",
       "      <td>92</td>\n",
       "      <td>1</td>\n",
       "      <td>-1</td>\n",
       "      <td>0</td>\n",
       "      <td>unknown</td>\n",
       "      <td>no</td>\n",
       "    </tr>\n",
       "    <tr>\n",
       "      <th>4</th>\n",
       "      <td>33</td>\n",
       "      <td>unknown</td>\n",
       "      <td>single</td>\n",
       "      <td>unknown</td>\n",
       "      <td>no</td>\n",
       "      <td>1</td>\n",
       "      <td>no</td>\n",
       "      <td>no</td>\n",
       "      <td>unknown</td>\n",
       "      <td>5</td>\n",
       "      <td>may</td>\n",
       "      <td>198</td>\n",
       "      <td>1</td>\n",
       "      <td>-1</td>\n",
       "      <td>0</td>\n",
       "      <td>unknown</td>\n",
       "      <td>no</td>\n",
       "    </tr>\n",
       "  </tbody>\n",
       "</table>\n",
       "</div>"
      ],
      "text/plain": [
       "   Emp Age      Job Role Marital Status Educational Specification  \\\n",
       "0       58    management        married                  tertiary   \n",
       "1       44    technician         single                 secondary   \n",
       "2       33  entrepreneur        married                 secondary   \n",
       "3       47   blue-collar        married                   unknown   \n",
       "4       33       unknown         single                   unknown   \n",
       "\n",
       "  Default Status  Account Balance Housing Status Loan Status Contact Number  \\\n",
       "0             no             2143            yes          no        unknown   \n",
       "1             no               29            yes          no        unknown   \n",
       "2             no                2            yes         yes        unknown   \n",
       "3             no             1506            yes          no        unknown   \n",
       "4             no                1             no          no        unknown   \n",
       "\n",
       "   Week Day Month Name  Duration Days  Campaign Days  Pdays Staus  \\\n",
       "0         5        may            261              1           -1   \n",
       "1         5        may            151              1           -1   \n",
       "2         5        may             76              1           -1   \n",
       "3         5        may             92              1           -1   \n",
       "4         5        may            198              1           -1   \n",
       "\n",
       "   Previous Status Poutcome Status Y Status  \n",
       "0                0         unknown       no  \n",
       "1                0         unknown       no  \n",
       "2                0         unknown       no  \n",
       "3                0         unknown       no  \n",
       "4                0         unknown       no  "
      ]
     },
     "execution_count": 42,
     "metadata": {},
     "output_type": "execute_result"
    }
   ],
   "source": [
    "bank.columns.values[0:1] =[\"Emp Age\" ]\n",
    "bank.head()"
   ]
  },
  {
   "cell_type": "markdown",
   "id": "dcd4d3fc",
   "metadata": {},
   "source": [
    "### 5). After doing all the changes in bank data(Q19). save the file in your directory in Csv Format"
   ]
  },
  {
   "cell_type": "code",
   "execution_count": 43,
   "id": "6986ce76",
   "metadata": {},
   "outputs": [],
   "source": [
    "bank.to_csv('D:/EXCELR/DATA ANALYST/Assignments/5. Basics of Python/Bank_New.csv')"
   ]
  },
  {
   "cell_type": "markdown",
   "id": "b2b349bf",
   "metadata": {},
   "source": [
    "# Basic Programs"
   ]
  },
  {
   "cell_type": "markdown",
   "id": "4a6e7a99",
   "metadata": {},
   "source": [
    "### 1. Write Python Programs to use various operators in Python"
   ]
  },
  {
   "cell_type": "code",
   "execution_count": 44,
   "id": "e8b1efb6",
   "metadata": {},
   "outputs": [],
   "source": [
    "# Arthematic Operations\n",
    "m=10\n",
    "n=5\n",
    "\n",
    "add=m+n\n",
    "sub=m-n\n",
    "mul=m*n\n",
    "div=m/n\n",
    "\n",
    "flr_div = m//n\n",
    "mod_div = m%n\n",
    "power = m**3"
   ]
  },
  {
   "cell_type": "code",
   "execution_count": 45,
   "id": "d01eff45",
   "metadata": {},
   "outputs": [
    {
     "name": "stdout",
     "output_type": "stream",
     "text": [
      "Addition of Numbers is:  15\n",
      "Subtraction of Numbers is:  5\n",
      "Multipliaction of Numbers is:  50\n",
      "Division of Numbers is:  2.0\n",
      "Integer or Floor Division of Numbers is:  2\n",
      "Modular Division of Numbers is:  0\n",
      "Power of 10^3 is:  1000\n"
     ]
    }
   ],
   "source": [
    "print('Addition of Numbers is: ',add)\n",
    "print('Subtraction of Numbers is: ',sub)\n",
    "print('Multipliaction of Numbers is: ',mul)\n",
    "print('Division of Numbers is: ',div)\n",
    "print('Integer or Floor Division of Numbers is: ',flr_div)\n",
    "print('Modular Division of Numbers is: ',mod_div)\n",
    "print('Power of 10^3 is: ',power)"
   ]
  },
  {
   "cell_type": "code",
   "execution_count": 46,
   "id": "fa3a7049",
   "metadata": {},
   "outputs": [],
   "source": [
    "# Boolean Opeartions\n",
    "a=True\n",
    "b=False"
   ]
  },
  {
   "cell_type": "code",
   "execution_count": 47,
   "id": "3ff5a4b2",
   "metadata": {},
   "outputs": [
    {
     "data": {
      "text/plain": [
       "True"
      ]
     },
     "execution_count": 47,
     "metadata": {},
     "output_type": "execute_result"
    }
   ],
   "source": [
    "# OR\n",
    "a or b"
   ]
  },
  {
   "cell_type": "code",
   "execution_count": 48,
   "id": "f1d17eae",
   "metadata": {},
   "outputs": [
    {
     "data": {
      "text/plain": [
       "False"
      ]
     },
     "execution_count": 48,
     "metadata": {},
     "output_type": "execute_result"
    }
   ],
   "source": [
    "# AND\n",
    "a and b"
   ]
  },
  {
   "cell_type": "code",
   "execution_count": 49,
   "id": "03cc85b1",
   "metadata": {},
   "outputs": [],
   "source": [
    "p =10\n",
    "q =3\n",
    "r=5"
   ]
  },
  {
   "cell_type": "code",
   "execution_count": 50,
   "id": "2b524a99",
   "metadata": {},
   "outputs": [
    {
     "data": {
      "text/plain": [
       "False"
      ]
     },
     "execution_count": 50,
     "metadata": {},
     "output_type": "execute_result"
    }
   ],
   "source": [
    "p%q == 0"
   ]
  },
  {
   "cell_type": "code",
   "execution_count": 51,
   "id": "c8876712",
   "metadata": {},
   "outputs": [
    {
     "data": {
      "text/plain": [
       "True"
      ]
     },
     "execution_count": 51,
     "metadata": {},
     "output_type": "execute_result"
    }
   ],
   "source": [
    "p%r == 0"
   ]
  },
  {
   "cell_type": "markdown",
   "id": "4a912040",
   "metadata": {},
   "source": [
    "### 2. Create list of elements and slice and dice it"
   ]
  },
  {
   "cell_type": "code",
   "execution_count": 52,
   "id": "d618e2ea",
   "metadata": {},
   "outputs": [
    {
     "name": "stdout",
     "output_type": "stream",
     "text": [
      "[1, 2, 3, 4, 5]\n"
     ]
    }
   ],
   "source": [
    "my_list = [1, 2, 3, 4, 5]\n",
    "print(my_list[:])"
   ]
  },
  {
   "cell_type": "code",
   "execution_count": 53,
   "id": "b5a1ccdc",
   "metadata": {},
   "outputs": [
    {
     "name": "stdout",
     "output_type": "stream",
     "text": [
      "[3, 4, 5]\n"
     ]
    }
   ],
   "source": [
    "my_list = [1, 2, 3, 4, 5]\n",
    "print(my_list[2:])"
   ]
  },
  {
   "cell_type": "code",
   "execution_count": 54,
   "id": "495de12d",
   "metadata": {},
   "outputs": [
    {
     "name": "stdout",
     "output_type": "stream",
     "text": [
      "[1, 2]\n"
     ]
    }
   ],
   "source": [
    "my_list = [1, 2, 3, 4, 5]\n",
    "print(my_list[:2])"
   ]
  },
  {
   "cell_type": "code",
   "execution_count": 55,
   "id": "1f2fc8ce",
   "metadata": {},
   "outputs": [
    {
     "name": "stdout",
     "output_type": "stream",
     "text": [
      "[3, 4]\n"
     ]
    }
   ],
   "source": [
    "my_list = [1, 2, 3, 4, 5]\n",
    "print(my_list[2:4])"
   ]
  },
  {
   "cell_type": "code",
   "execution_count": 56,
   "id": "dcdbacb5",
   "metadata": {},
   "outputs": [
    {
     "name": "stdout",
     "output_type": "stream",
     "text": [
      "[1, 3, 5]\n"
     ]
    }
   ],
   "source": [
    "my_list = [1, 2, 3, 4, 5]\n",
    "print(my_list[::2])"
   ]
  },
  {
   "cell_type": "code",
   "execution_count": 57,
   "id": "195b4085",
   "metadata": {},
   "outputs": [
    {
     "name": "stdout",
     "output_type": "stream",
     "text": [
      "[5, 3, 1]\n"
     ]
    }
   ],
   "source": [
    "my_list = [1, 2, 3, 4, 5]\n",
    "print(my_list[::-2])"
   ]
  },
  {
   "cell_type": "code",
   "execution_count": 58,
   "id": "8ecf5a3e",
   "metadata": {},
   "outputs": [
    {
     "name": "stdout",
     "output_type": "stream",
     "text": [
      "[2, 4]\n"
     ]
    }
   ],
   "source": [
    "my_list = [1, 2, 3, 4, 5]\n",
    "print(my_list[1:4:2])"
   ]
  },
  {
   "cell_type": "markdown",
   "id": "dc92a6dd",
   "metadata": {},
   "source": [
    "### 3. Using while loop accept numbers until sum of numbers is less than 100\n"
   ]
  },
  {
   "cell_type": "code",
   "execution_count": 59,
   "id": "c75c2a86",
   "metadata": {},
   "outputs": [
    {
     "name": "stdout",
     "output_type": "stream",
     "text": [
      "The last number is 13 and total is 91\n"
     ]
    }
   ],
   "source": [
    "num = 0\n",
    "total = 0\n",
    "while True:\n",
    "    if total + num + 1 > 100:\n",
    "        break\n",
    "    num += 1\n",
    "    total += num\n",
    "\n",
    "print(f'The last number is {num} and total is {total}')"
   ]
  },
  {
   "cell_type": "markdown",
   "id": "27594983",
   "metadata": {},
   "source": [
    "### 4. Write a python program Read & write Excel files "
   ]
  },
  {
   "cell_type": "code",
   "execution_count": 60,
   "id": "947cd91b",
   "metadata": {},
   "outputs": [],
   "source": [
    "# Creating and Writing Data into an Excel File\n",
    "\n",
    "import openpyxl\n",
    "my_wb = openpyxl.Workbook()\n",
    "sheet = my_wb.active\n",
    "\n",
    "Model = [\"Maruti Grand Vitara\",\"Toyota Urban Cruiser\",\"Honda City\",\"Maruti Celerio\",\"Maruti Wagon\",\"Hyundai Venue\",\"Tata Nexon\"]\n",
    "Price = [10.70,10.86,18.89,5.36,5.51,7.89,8.09]\n",
    "Mileage = [27,27,27,26,25,24,24]\n",
    "\n",
    "sheet.cell(row=1,column=1).value=\"Model\"\n",
    "sheet.cell(row=1,column=2).value=\"Price\"\n",
    "sheet.cell(row=1,column=3).value=\"Mileage\"\n",
    "\n",
    "j=2\n",
    "for i in range(0,7):\n",
    "    sheet.cell(row=j,column=1).value=Model[i]\n",
    "    sheet.cell(row=j,column=2).value=Price[i]\n",
    "    sheet.cell(row=j,column=3).value=Mileage[i]\n",
    "    j+=1\n",
    "my_wb.save(\"D:/EXCELR/DATA ANALYST/Assignments/5. Basics of Python/Cars.xlsx\")"
   ]
  },
  {
   "cell_type": "code",
   "execution_count": 61,
   "id": "9bd0aa7f",
   "metadata": {},
   "outputs": [
    {
     "data": {
      "text/html": [
       "<div>\n",
       "<style scoped>\n",
       "    .dataframe tbody tr th:only-of-type {\n",
       "        vertical-align: middle;\n",
       "    }\n",
       "\n",
       "    .dataframe tbody tr th {\n",
       "        vertical-align: top;\n",
       "    }\n",
       "\n",
       "    .dataframe thead th {\n",
       "        text-align: right;\n",
       "    }\n",
       "</style>\n",
       "<table border=\"1\" class=\"dataframe\">\n",
       "  <thead>\n",
       "    <tr style=\"text-align: right;\">\n",
       "      <th></th>\n",
       "      <th>Model</th>\n",
       "      <th>Price</th>\n",
       "      <th>Mileage</th>\n",
       "    </tr>\n",
       "  </thead>\n",
       "  <tbody>\n",
       "    <tr>\n",
       "      <th>0</th>\n",
       "      <td>Maruti Grand Vitara</td>\n",
       "      <td>10.70</td>\n",
       "      <td>27</td>\n",
       "    </tr>\n",
       "    <tr>\n",
       "      <th>1</th>\n",
       "      <td>Toyota Urban Cruiser</td>\n",
       "      <td>10.86</td>\n",
       "      <td>27</td>\n",
       "    </tr>\n",
       "    <tr>\n",
       "      <th>2</th>\n",
       "      <td>Honda City</td>\n",
       "      <td>18.89</td>\n",
       "      <td>27</td>\n",
       "    </tr>\n",
       "    <tr>\n",
       "      <th>3</th>\n",
       "      <td>Maruti Celerio</td>\n",
       "      <td>5.36</td>\n",
       "      <td>26</td>\n",
       "    </tr>\n",
       "    <tr>\n",
       "      <th>4</th>\n",
       "      <td>Maruti Wagon</td>\n",
       "      <td>5.51</td>\n",
       "      <td>25</td>\n",
       "    </tr>\n",
       "    <tr>\n",
       "      <th>5</th>\n",
       "      <td>Hyundai Venue</td>\n",
       "      <td>7.89</td>\n",
       "      <td>24</td>\n",
       "    </tr>\n",
       "    <tr>\n",
       "      <th>6</th>\n",
       "      <td>Tata Nexon</td>\n",
       "      <td>8.09</td>\n",
       "      <td>24</td>\n",
       "    </tr>\n",
       "  </tbody>\n",
       "</table>\n",
       "</div>"
      ],
      "text/plain": [
       "                  Model  Price  Mileage\n",
       "0   Maruti Grand Vitara  10.70       27\n",
       "1  Toyota Urban Cruiser  10.86       27\n",
       "2            Honda City  18.89       27\n",
       "3        Maruti Celerio   5.36       26\n",
       "4          Maruti Wagon   5.51       25\n",
       "5         Hyundai Venue   7.89       24\n",
       "6            Tata Nexon   8.09       24"
      ]
     },
     "execution_count": 61,
     "metadata": {},
     "output_type": "execute_result"
    }
   ],
   "source": [
    "# Reading an Excel file using Pandas\n",
    "My_book=pd.read_excel(r\"D:\\EXCELR\\DATA ANALYST\\Assignments\\5. Basics of Python\\Cars.xlsx\")\n",
    "My_book"
   ]
  },
  {
   "cell_type": "markdown",
   "id": "d6817c80",
   "metadata": {},
   "source": [
    "### 5. Write a python program to scrape reviews from a commercial web site"
   ]
  },
  {
   "cell_type": "code",
   "execution_count": 73,
   "id": "2f1b3090",
   "metadata": {},
   "outputs": [],
   "source": [
    "import requests\n",
    "import pandas as pd\n",
    "from bs4 import BeautifulSoup\n",
    "from datetime import datetime"
   ]
  },
  {
   "cell_type": "code",
   "execution_count": 74,
   "id": "5c917d16",
   "metadata": {},
   "outputs": [],
   "source": [
    "headers = {\n",
    "    'authority': 'www.amazon.com',\n",
    "    'accept': 'text/html,application/xhtml+xml,application/xml;q=0.9,image/avif,image/webp,image/apng,*/*;q=0.8,application/signed-exchange;v=b3;q=0.9',\n",
    "    'accept-language': 'en-US,en;q=0.9,bn;q=0.8',\n",
    "    'sec-ch-ua': '\" Not A;Brand\";v=\"99\", \"Chromium\";v=\"102\", \"Google Chrome\";v=\"102\"',\n",
    "    'user-agent': 'Mozilla/5.0 (Windows NT 10.0; Win64; x64) AppleWebKit/537.36 (KHTML, like Gecko) Chrome/102.0.0.0 Safari/537.36'\n",
    "}"
   ]
  },
  {
   "cell_type": "code",
   "execution_count": 75,
   "id": "d3ea7f58",
   "metadata": {},
   "outputs": [],
   "source": [
    "reviews_url = 'https://www.amazon.com/Legendary-Whitetails-Journeyman-Jacket-Tarmac/product-reviews/B013KW38RQ/'"
   ]
  },
  {
   "cell_type": "code",
   "execution_count": 76,
   "id": "7832f638",
   "metadata": {},
   "outputs": [],
   "source": [
    "len_page = 4"
   ]
  },
  {
   "cell_type": "code",
   "execution_count": 77,
   "id": "a7cb9890",
   "metadata": {},
   "outputs": [],
   "source": [
    "\n",
    "def reviewsHtml(url, len_page):\n",
    "    soups = []\n",
    "    for page_no in range(1, len_page + 1):\n",
    "        \n",
    "        params = {\n",
    "            'ie': 'UTF8',\n",
    "            'reviewerType': 'all_reviews',\n",
    "            'filterByStar': 'critical',\n",
    "            'pageNumber': page_no,\n",
    "        }\n",
    "        \n",
    "        response = requests.get(url, headers=headers)\n",
    "    \n",
    "        soup = BeautifulSoup(response.text, 'lxml')\n",
    "     \n",
    "        soups.append(soup)\n",
    "        \n",
    "    return soups"
   ]
  },
  {
   "cell_type": "code",
   "execution_count": 78,
   "id": "ee1715de",
   "metadata": {},
   "outputs": [],
   "source": [
    "\n",
    "def getReviews(html_data):\n",
    "\n",
    "    data_dicts = []\n",
    "    \n",
    "    boxes = html_data.select('div[data-hook=\"review\"]')\n",
    "   \n",
    "    for box in boxes:\n",
    "        \n",
    "        try:\n",
    "            name = box.select_one('[class=\"a-profile-name\"]').text.strip()\n",
    "        except Exception as e:\n",
    "            name = 'N/A'\n",
    "\n",
    "        try:\n",
    "            stars = box.select_one('[data-hook=\"review-star-rating\"]').text.strip().split(' out')[0]\n",
    "        except Exception as e:\n",
    "            stars = 'N/A'   \n",
    "\n",
    "        try:\n",
    "            title = box.select_one('[data-hook=\"review-title\"]').text.strip()\n",
    "        except Exception as e:\n",
    "            title = 'N/A'\n",
    "\n",
    "        try:\n",
    "        \n",
    "            datetime_str = box.select_one('[data-hook=\"review-date\"]').text.strip().split(' on ')[-1]\n",
    "            date = datetime.strptime(datetime_str, '%B %d, %Y').strftime(\"%d/%m/%Y\")\n",
    "        except Exception as e:\n",
    "            date = 'N/A'\n",
    "\n",
    "        try:\n",
    "            description = box.select_one('[data-hook=\"review-body\"]').text.strip()\n",
    "        except Exception as e:\n",
    "            description = 'N/A'\n",
    "\n",
    "        data_dict = {\n",
    "            'Name' : name,\n",
    "            'Stars' : stars,\n",
    "            'Title' : title,\n",
    "            'Date' : date,\n",
    "            'Description' : description\n",
    "        }\n",
    "\n",
    "        data_dicts.append(data_dict)\n",
    "    \n",
    "    return data_dicts"
   ]
  },
  {
   "cell_type": "code",
   "execution_count": 79,
   "id": "f39b8ddf",
   "metadata": {},
   "outputs": [],
   "source": [
    "html_datas = reviewsHtml(reviews_url, len_page)"
   ]
  },
  {
   "cell_type": "code",
   "execution_count": 80,
   "id": "30ee1767",
   "metadata": {},
   "outputs": [],
   "source": [
    "reviews = []"
   ]
  },
  {
   "cell_type": "code",
   "execution_count": 81,
   "id": "09843cdb",
   "metadata": {},
   "outputs": [],
   "source": [
    "for html_data in html_datas:\n",
    "    \n",
    "    review = getReviews(html_data)\n",
    "    \n",
    "    reviews += review"
   ]
  },
  {
   "cell_type": "code",
   "execution_count": 82,
   "id": "4cf8b325",
   "metadata": {},
   "outputs": [],
   "source": [
    "df_reviews1 = pd.DataFrame(reviews)"
   ]
  },
  {
   "cell_type": "code",
   "execution_count": 83,
   "id": "4dd91574",
   "metadata": {},
   "outputs": [
    {
     "data": {
      "text/html": [
       "<div>\n",
       "<style scoped>\n",
       "    .dataframe tbody tr th:only-of-type {\n",
       "        vertical-align: middle;\n",
       "    }\n",
       "\n",
       "    .dataframe tbody tr th {\n",
       "        vertical-align: top;\n",
       "    }\n",
       "\n",
       "    .dataframe thead th {\n",
       "        text-align: right;\n",
       "    }\n",
       "</style>\n",
       "<table border=\"1\" class=\"dataframe\">\n",
       "  <thead>\n",
       "    <tr style=\"text-align: right;\">\n",
       "      <th></th>\n",
       "      <th>Name</th>\n",
       "      <th>Stars</th>\n",
       "      <th>Title</th>\n",
       "      <th>Date</th>\n",
       "      <th>Description</th>\n",
       "    </tr>\n",
       "  </thead>\n",
       "  <tbody>\n",
       "    <tr>\n",
       "      <th>0</th>\n",
       "      <td>Jeff</td>\n",
       "      <td>4.0</td>\n",
       "      <td>4.0 out of 5 stars\\nRugged, good look and nice...</td>\n",
       "      <td>02/10/2018</td>\n",
       "      <td>The short answer to if you should go down from...</td>\n",
       "    </tr>\n",
       "    <tr>\n",
       "      <th>1</th>\n",
       "      <td>jbj2419</td>\n",
       "      <td>4.0</td>\n",
       "      <td>4.0 out of 5 stars\\nI would buy it again</td>\n",
       "      <td>19/11/2023</td>\n",
       "      <td>The jacket is comfortable.  I like the way it ...</td>\n",
       "    </tr>\n",
       "    <tr>\n",
       "      <th>2</th>\n",
       "      <td>Jimmy Alford</td>\n",
       "      <td>4.0</td>\n",
       "      <td>4.0 out of 5 stars\\nNot fully flannel lined.</td>\n",
       "      <td>22/11/2023</td>\n",
       "      <td>Maybe I missed it in the description, but the ...</td>\n",
       "    </tr>\n",
       "    <tr>\n",
       "      <th>3</th>\n",
       "      <td>Donny Smith</td>\n",
       "      <td>4.0</td>\n",
       "      <td>4.0 out of 5 stars\\nNot bad</td>\n",
       "      <td>19/10/2023</td>\n",
       "      <td>The Good: Looks great, it’s warm, seems to be ...</td>\n",
       "    </tr>\n",
       "    <tr>\n",
       "      <th>4</th>\n",
       "      <td>Kenneth Rogers</td>\n",
       "      <td>4.0</td>\n",
       "      <td>4.0 out of 5 stars\\n#2</td>\n",
       "      <td>20/11/2023</td>\n",
       "      <td>This is my second jacket shirt from them.  I l...</td>\n",
       "    </tr>\n",
       "    <tr>\n",
       "      <th>5</th>\n",
       "      <td>Micah Bowers</td>\n",
       "      <td>5.0</td>\n",
       "      <td>5.0 out of 5 stars\\nFits, looks and feels bett...</td>\n",
       "      <td>20/11/2023</td>\n",
       "      <td>I am 6’-2” 195lbs. The L fit great. Very happy...</td>\n",
       "    </tr>\n",
       "    <tr>\n",
       "      <th>6</th>\n",
       "      <td>TJ Michel</td>\n",
       "      <td>4.0</td>\n",
       "      <td>4.0 out of 5 stars\\nHigh Quality</td>\n",
       "      <td>18/10/2023</td>\n",
       "      <td>The jacket is very nice.  Was expecting it to ...</td>\n",
       "    </tr>\n",
       "    <tr>\n",
       "      <th>7</th>\n",
       "      <td>William</td>\n",
       "      <td>5.0</td>\n",
       "      <td>5.0 out of 5 stars\\nWish I could give it more ...</td>\n",
       "      <td>06/10/2023</td>\n",
       "      <td>It's not the most light weight of things but y...</td>\n",
       "    </tr>\n",
       "    <tr>\n",
       "      <th>8</th>\n",
       "      <td>LB</td>\n",
       "      <td>5.0</td>\n",
       "      <td>5.0 out of 5 stars\\nSnaps</td>\n",
       "      <td>23/11/2023</td>\n",
       "      <td>Awesome light weight jacket.  Material is top ...</td>\n",
       "    </tr>\n",
       "    <tr>\n",
       "      <th>9</th>\n",
       "      <td>Chelsea Epling</td>\n",
       "      <td>5.0</td>\n",
       "      <td>5.0 out of 5 stars\\nLove love love!!</td>\n",
       "      <td>20/11/2023</td>\n",
       "      <td>This coat is so nice!! I bought it for my step...</td>\n",
       "    </tr>\n",
       "  </tbody>\n",
       "</table>\n",
       "</div>"
      ],
      "text/plain": [
       "             Name Stars                                              Title  \\\n",
       "0            Jeff   4.0  4.0 out of 5 stars\\nRugged, good look and nice...   \n",
       "1         jbj2419   4.0           4.0 out of 5 stars\\nI would buy it again   \n",
       "2    Jimmy Alford   4.0       4.0 out of 5 stars\\nNot fully flannel lined.   \n",
       "3     Donny Smith   4.0                        4.0 out of 5 stars\\nNot bad   \n",
       "4  Kenneth Rogers   4.0                             4.0 out of 5 stars\\n#2   \n",
       "5    Micah Bowers   5.0  5.0 out of 5 stars\\nFits, looks and feels bett...   \n",
       "6       TJ Michel   4.0                   4.0 out of 5 stars\\nHigh Quality   \n",
       "7         William   5.0  5.0 out of 5 stars\\nWish I could give it more ...   \n",
       "8              LB   5.0                          5.0 out of 5 stars\\nSnaps   \n",
       "9  Chelsea Epling   5.0               5.0 out of 5 stars\\nLove love love!!   \n",
       "\n",
       "         Date                                        Description  \n",
       "0  02/10/2018  The short answer to if you should go down from...  \n",
       "1  19/11/2023  The jacket is comfortable.  I like the way it ...  \n",
       "2  22/11/2023  Maybe I missed it in the description, but the ...  \n",
       "3  19/10/2023  The Good: Looks great, it’s warm, seems to be ...  \n",
       "4  20/11/2023  This is my second jacket shirt from them.  I l...  \n",
       "5  20/11/2023  I am 6’-2” 195lbs. The L fit great. Very happy...  \n",
       "6  18/10/2023  The jacket is very nice.  Was expecting it to ...  \n",
       "7  06/10/2023  It's not the most light weight of things but y...  \n",
       "8  23/11/2023  Awesome light weight jacket.  Material is top ...  \n",
       "9  20/11/2023  This coat is so nice!! I bought it for my step...  "
      ]
     },
     "execution_count": 83,
     "metadata": {},
     "output_type": "execute_result"
    }
   ],
   "source": [
    "df_reviews1"
   ]
  },
  {
   "cell_type": "code",
   "execution_count": 84,
   "id": "5f88bf8a",
   "metadata": {},
   "outputs": [],
   "source": [
    "df_reviews1.to_csv('D:/EXCELR/DATA ANALYST/Assignments/5. Basics of Python/reviews.csv', index=False)"
   ]
  },
  {
   "cell_type": "markdown",
   "id": "2918e34c",
   "metadata": {},
   "source": [
    "### 6. Create a 3x3 matrix with values ranging from 2 to 10 using numpy"
   ]
  },
  {
   "cell_type": "code",
   "execution_count": 85,
   "id": "2c02125e",
   "metadata": {},
   "outputs": [],
   "source": [
    "x1 = np.arange(2, 11).reshape(3, 3)"
   ]
  },
  {
   "cell_type": "code",
   "execution_count": 86,
   "id": "aa9354a8",
   "metadata": {},
   "outputs": [
    {
     "name": "stdout",
     "output_type": "stream",
     "text": [
      "[[ 2  3  4]\n",
      " [ 5  6  7]\n",
      " [ 8  9 10]]\n"
     ]
    }
   ],
   "source": [
    "print(x1)"
   ]
  },
  {
   "cell_type": "markdown",
   "id": "4bb333e9",
   "metadata": {},
   "source": [
    "### 7. Write a Python program to convert a list of numeric value into a one-dimensional NumPy array\n"
   ]
  },
  {
   "cell_type": "code",
   "execution_count": 87,
   "id": "97a3e90c",
   "metadata": {},
   "outputs": [],
   "source": [
    "list_n = [1,2,3,4,5,6,7,8,9]"
   ]
  },
  {
   "cell_type": "code",
   "execution_count": 88,
   "id": "d3c5bab3",
   "metadata": {},
   "outputs": [],
   "source": [
    "array1 = np.array(list_n)"
   ]
  },
  {
   "cell_type": "code",
   "execution_count": 89,
   "id": "9d623ea4",
   "metadata": {},
   "outputs": [
    {
     "name": "stdout",
     "output_type": "stream",
     "text": [
      "Array:  [1 2 3 4 5 6 7 8 9]\n"
     ]
    }
   ],
   "source": [
    "print (\"Array: \", array1)"
   ]
  },
  {
   "cell_type": "markdown",
   "id": "18783fac",
   "metadata": {},
   "source": [
    "### 8. Write a Python program to create a null vector of size 10 and update sixth value to 11."
   ]
  },
  {
   "cell_type": "code",
   "execution_count": 90,
   "id": "b0e2065e",
   "metadata": {},
   "outputs": [],
   "source": [
    "z = np.zeros(10)"
   ]
  },
  {
   "cell_type": "code",
   "execution_count": 91,
   "id": "bd479ef9",
   "metadata": {},
   "outputs": [
    {
     "name": "stdout",
     "output_type": "stream",
     "text": [
      "[0. 0. 0. 0. 0. 0. 0. 0. 0. 0.]\n"
     ]
    }
   ],
   "source": [
    "print(z)"
   ]
  },
  {
   "cell_type": "code",
   "execution_count": 92,
   "id": "7da4504e",
   "metadata": {},
   "outputs": [],
   "source": [
    "z[6] = 11"
   ]
  },
  {
   "cell_type": "code",
   "execution_count": 93,
   "id": "87e054f6",
   "metadata": {},
   "outputs": [
    {
     "name": "stdout",
     "output_type": "stream",
     "text": [
      "[ 0.  0.  0.  0.  0.  0. 11.  0.  0.  0.]\n"
     ]
    }
   ],
   "source": [
    "print(z)"
   ]
  }
 ],
 "metadata": {
  "kernelspec": {
   "display_name": "Python 3 (ipykernel)",
   "language": "python",
   "name": "python3"
  },
  "language_info": {
   "codemirror_mode": {
    "name": "ipython",
    "version": 3
   },
   "file_extension": ".py",
   "mimetype": "text/x-python",
   "name": "python",
   "nbconvert_exporter": "python",
   "pygments_lexer": "ipython3",
   "version": "3.11.3"
  }
 },
 "nbformat": 4,
 "nbformat_minor": 5
}
